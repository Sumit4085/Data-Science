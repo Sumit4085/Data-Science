{
  "nbformat": 4,
  "nbformat_minor": 0,
  "metadata": {
    "colab": {
      "private_outputs": true,
      "provenance": [],
      "collapsed_sections": [
        "vncDsAP0Gaoa",
        "w6K7xa23Elo4",
        "yQaldy8SH6Dl",
        "PH-0ReGfmX4f",
        "mDgbUHAGgjLW",
        "x71ZqKXriCWQ",
        "7hBIi_osiCS2",
        "JlHwYmJAmNHm",
        "35m5QtbWiB9F",
        "PoPl-ycgm1ru",
        "H0kj-8xxnORC",
        "nA9Y7ga8ng1Z",
        "PBTbrJXOngz2",
        "u3PMJOP6ngxN",
        "MSa1f5Uengrz",
        "K5QZ13OEpz2H",
        "lQ7QKXXCp7Bj",
        "448CDAPjqfQr",
        "t6dVpIINYklI",
        "ijmpgYnKYklI",
        "-JiQyfWJYklI",
        "EM7whBJCYoAo",
        "fge-S5ZAYoAp",
        "85gYPyotYoAp",
        "RoGjAbkUYoAp",
        "4Of9eVA-YrdM",
        "iky9q4vBYrdO",
        "F6T5p64dYrdO",
        "y-Ehk30pYrdP",
        "bamQiAODYuh1",
        "QHF8YVU7Yuh3",
        "GwzvFGzlYuh3",
        "qYpmQ266Yuh3",
        "OH-pJp9IphqM",
        "bbFf2-_FphqN",
        "_ouA3fa0phqN",
        "Seke61FWphqN",
        "PIIx-8_IphqN",
        "t27r6nlMphqO",
        "r2jJGEOYphqO",
        "b0JNsNcRphqO",
        "BZR9WyysphqO",
        "jj7wYXLtphqO",
        "eZrbJ2SmphqO",
        "rFu4xreNphqO",
        "YJ55k-q6phqO",
        "gCFgpxoyphqP",
        "OVtJsKN_phqQ",
        "lssrdh5qphqQ",
        "U2RJ9gkRphqQ",
        "1M8mcRywphqQ",
        "tgIPom80phqQ",
        "JMzcOPDDphqR",
        "x-EpHcCOp1ci",
        "X_VqEhTip1ck",
        "8zGJKyg5p1ck",
        "PVzmfK_Ep1ck",
        "n3dbpmDWp1ck",
        "ylSl6qgtp1ck",
        "ZWILFDl5p1ck",
        "M7G43BXep1ck",
        "Ag9LCva-p1cl",
        "E6MkPsBcp1cl",
        "2cELzS2fp1cl",
        "3MPXvC8up1cl",
        "NC_X3p0fY2L0",
        "UV0SzAkaZNRQ",
        "YPEH6qLeZNRQ",
        "q29F0dvdveiT",
        "EXh0U9oCveiU",
        "22aHeOlLveiV",
        "JcMwzZxoAimU",
        "8G2x9gOozGDZ",
        "gCX9965dhzqZ",
        "gIfDvo9L0UH2"
      ],
      "include_colab_link": true
    },
    "kernelspec": {
      "name": "python3",
      "display_name": "Python 3"
    },
    "language_info": {
      "name": "python"
    }
  },
  "cells": [
    {
      "cell_type": "markdown",
      "metadata": {
        "id": "view-in-github",
        "colab_type": "text"
      },
      "source": [
        "<a href=\"https://colab.research.google.com/github/Sumit4085/Data-Science/blob/main/Google_Play_Store_EDA_Project.ipynb\" target=\"_parent\"><img src=\"https://colab.research.google.com/assets/colab-badge.svg\" alt=\"Open In Colab\"/></a>"
      ]
    },
    {
      "cell_type": "markdown",
      "source": [
        "# **Project Name**    -\n",
        "\n"
      ],
      "metadata": {
        "id": "vncDsAP0Gaoa"
      }
    },
    {
      "cell_type": "markdown",
      "source": [
        "##### **Project Type**    - EDA\n",
        "##### **Contribution**    - Individual\n",
        "\n"
      ],
      "metadata": {
        "id": "beRrZCGUAJYm"
      }
    },
    {
      "cell_type": "markdown",
      "source": [
        "# **Project Summary -**"
      ],
      "metadata": {
        "id": "FJNUwmbgGyua"
      }
    },
    {
      "cell_type": "markdown",
      "source": [
        "The Google Play Store is a massive digital marketplace where users can download a wide variety of applications for their smartphones and tablets. With millions of apps available, understanding the trends and preferences of both users and developers is crucial for optimizing the app ecosystem. Exploratory Data Analysis (EDA) offers a powerful approach to uncover insights and patterns within the vast dataset of the Google Play Store.\n",
        "\n",
        "The Google Play Store EDA project aims to explore and analyze the extensive dataset of app listings available on the platform. By conducting thorough analysis, we seek to address several key questions and challenges:\n",
        "\n",
        "1. App Categories and Popularity:\n",
        "   - What are the most popular app categories on the Google Play Store?\n",
        "   - How does the popularity of different categories vary?\n",
        "   - specific categories that dominate the market?\n",
        "\n",
        "2. App Ratings and Reviews:\n",
        "   - How do user ratings affect the popularity and success of an app?\n",
        "   - Are there correlations between the number of reviews and app ratings?\n",
        "   \n",
        "\n",
        "3. Pricing Strategies and Revenue:\n",
        "   - How do pricing strategies influence app downloads and revenue generation?\n",
        "   - Are paid apps more successful than free apps, or vice versa?\n",
        "   - What are the most common price ranges for apps across different categories?\n",
        "\n",
        "4. User Demographics and Preferences:\n",
        "   - Who are the primary users of the Google Play Store?\n",
        "   - What are the demographics of users who download specific types of apps?\n",
        "   - Are there regional or cultural differences in app preferences?\n",
        "\n",
        "5. App Size and Performance:\n",
        "   - How does app size impact user downloads and retention?\n",
        "   - Are users more likely to download smaller apps over larger ones?\n",
        "   - Is there a correlation between app size and user ratings/performance?\n",
        "\n",
        "6. Developer Trends and Behavior:\n",
        "   - What are the characteristics of successful app developers on the Google Play Store?\n",
        "   - How do factors such as app updates, developer reputation, and engagement influence app success?\n",
        "   - Are there patterns in the behavior of developers regarding app pricing, updates, and user feedback?\n",
        "\n",
        "Approach:\n",
        "To address these questions and challenges, we will perform exploratory data analysis on a comprehensive dataset extracted from the Google Play Store. This analysis will involve data cleaning, visualization, and statistical techniques to uncover meaningful insights. We will utilize Python programming language along with libraries such as Pandas, Matplotlib, and Seaborn for data manipulation and visualization. Additionally, we will employ descriptive and inferential statistical methods to derive conclusions and make recommendations based on the findings.\n",
        "\n",
        "Expected Outcome:\n",
        "Through this EDA project, we aim to provide valuable insights into the dynamics of the Google Play Store ecosystem. By understanding app trends, user preferences, and developer behavior, stakeholders such as app developers, marketers, and platform administrators can make informed decisions to optimize their strategies and enhance the overall user experience on the Google Play Store."
      ],
      "metadata": {
        "id": "F6v_1wHtG2nS"
      }
    },
    {
      "cell_type": "markdown",
      "source": [
        "# **GitHub Link -**"
      ],
      "metadata": {
        "id": "w6K7xa23Elo4"
      }
    },
    {
      "cell_type": "markdown",
      "source": [
        "Provide your GitHub Link here.https://github.com/Sumit4085/Data-Science-Projects.git"
      ],
      "metadata": {
        "id": "h1o69JH3Eqqn"
      }
    },
    {
      "cell_type": "markdown",
      "source": [
        "# **Problem Statement**\n"
      ],
      "metadata": {
        "id": "yQaldy8SH6Dl"
      }
    },
    {
      "cell_type": "markdown",
      "source": [
        "**Write Problem Statement Here.**\n",
        "\n",
        "Problem Statement:\n",
        "Analyze the Google Play Store dataset to gain insights into app trends, user preferences, and factors influencing app ratings and downloads. The goal is to uncover patterns that can guide app developers and marketers in making informed decisions about app development, pricing strategies, and marketing campaigns. By conducting exploratory data analysis (EDA), we aim to identify correlations between various app attributes such as category, size, price, and rating, and understand their impact on user engagement and satisfaction. Additionally, we seek to explore geographical trends in app usage and popularity across different regions. Ultimately, the insights derived from this analysis will enable stakeholders to optimize their app offerings and maximize their success on the Google Play Store platform."
      ],
      "metadata": {
        "id": "DpeJGUA3kjGy"
      }
    },
    {
      "cell_type": "markdown",
      "source": [
        "#### **Define Your Business Objective?**"
      ],
      "metadata": {
        "id": "PH-0ReGfmX4f"
      }
    },
    {
      "cell_type": "markdown",
      "source": [
        "Answer Here.\n",
        "\"To leverage insights derived from the analysis of the Google Play Store dataset to inform strategic decision-making processes and optimize app offerings, pricing strategies, and marketing campaigns. The primary goal is to enhance user engagement, satisfaction, and overall success on the Google Play Store platform by identifying key trends, preferences, and factors influencing app ratings and downloads.\"\n",
        "\n",
        "In summary, the business objective is to use data-driven insights to:\n",
        "\n",
        "Inform strategic decision-making.\n",
        "Optimize app offerings.\n",
        "Develop effective pricing strategies.\n",
        "Create targeted marketing campaigns.\n",
        "Enhance user engagement and satisfaction.\n",
        "Maximize success on the Google Play Store platform.\n",
        "\n",
        "\n",
        "\n",
        "\n"
      ],
      "metadata": {
        "id": "PhDvGCAqmjP1"
      }
    },
    {
      "cell_type": "markdown",
      "source": [
        "# **General Guidelines** : -  "
      ],
      "metadata": {
        "id": "mDgbUHAGgjLW"
      }
    },
    {
      "cell_type": "markdown",
      "source": [
        "1.   Well-structured, formatted, and commented code is required.\n",
        "2.   Exception Handling, Production Grade Code & Deployment Ready Code will be a plus. Those students will be awarded some additional credits.\n",
        "     \n",
        "     The additional credits will have advantages over other students during Star Student selection.\n",
        "       \n",
        "             [ Note: - Deployment Ready Code is defined as, the whole .ipynb notebook should be executable in one go\n",
        "                       without a single error logged. ]\n",
        "\n",
        "3.   Each and every logic should have proper comments.\n",
        "4. You may add as many number of charts you want. Make Sure for each and every chart the following format should be answered.\n",
        "        \n",
        "\n",
        "```\n",
        "# Chart visualization code\n",
        "```\n",
        "            \n",
        "\n",
        "*   Why did you pick the specific chart?\n",
        "*   What is/are the insight(s) found from the chart?\n",
        "* Will the gained insights help creating a positive business impact?\n",
        "Are there any insights that lead to negative growth? Justify with specific reason.\n",
        "\n",
        "5. You have to create at least 20 logical & meaningful charts having important insights.\n",
        "\n",
        "\n",
        "[ Hints : - Do the Vizualization in  a structured way while following \"UBM\" Rule.\n",
        "\n",
        "U - Univariate Analysis,\n",
        "\n",
        "B - Bivariate Analysis (Numerical - Categorical, Numerical - Numerical, Categorical - Categorical)\n",
        "\n",
        "M - Multivariate Analysis\n",
        " ]\n",
        "\n",
        "\n",
        "\n"
      ],
      "metadata": {
        "id": "ZrxVaUj-hHfC"
      }
    },
    {
      "cell_type": "markdown",
      "source": [
        "# ***Let's Begin !***"
      ],
      "metadata": {
        "id": "O_i_v8NEhb9l"
      }
    },
    {
      "cell_type": "markdown",
      "source": [
        "## ***1. Know Your Data***"
      ],
      "metadata": {
        "id": "HhfV-JJviCcP"
      }
    },
    {
      "cell_type": "markdown",
      "source": [
        "### Import Libraries"
      ],
      "metadata": {
        "id": "Y3lxredqlCYt"
      }
    },
    {
      "cell_type": "code",
      "source": [
        "# Importing all mandatory Libraries\n",
        "import pandas as pd # Numerical operations on arrays\n",
        "import numpy as np #  Data manipulation and analysis\n",
        "import matplotlib.pyplot as plt #  Data visualization\n",
        "%matplotlib inline\n",
        "import seaborn as sns # Statistical data visualization\n",
        "\n"
      ],
      "metadata": {
        "id": "M8Vqi-pPk-HR"
      },
      "execution_count": null,
      "outputs": []
    },
    {
      "cell_type": "markdown",
      "source": [
        "### Dataset Loading"
      ],
      "metadata": {
        "id": "3RnN4peoiCZX"
      }
    },
    {
      "cell_type": "code",
      "source": [
        "# importing drive from google drive\n",
        "from google.colab import drive\n",
        "drive.mount('/content/drive')"
      ],
      "metadata": {
        "id": "Toy3BjMsPB4d"
      },
      "execution_count": null,
      "outputs": []
    },
    {
      "cell_type": "code",
      "source": [
        "# uploading Dataset (play store)\n",
        "df = pd.read_csv('/content/drive/MyDrive/Play Store Data.csv')"
      ],
      "metadata": {
        "id": "4CkvbW_SlZ_R"
      },
      "execution_count": null,
      "outputs": []
    },
    {
      "cell_type": "code",
      "source": [
        "# uploading dataset (play store user review)\n",
        "df1 = pd.read_csv('/content/drive/MyDrive/User Reviews.csv')"
      ],
      "metadata": {
        "id": "urerqrjrVL3w"
      },
      "execution_count": null,
      "outputs": []
    },
    {
      "cell_type": "markdown",
      "source": [
        "### Dataset First View"
      ],
      "metadata": {
        "id": "x71ZqKXriCWQ"
      }
    },
    {
      "cell_type": "code",
      "source": [
        "# overview of top 5 data of df\n",
        "df.head()"
      ],
      "metadata": {
        "id": "LWNFOSvLl09H"
      },
      "execution_count": null,
      "outputs": []
    },
    {
      "cell_type": "code",
      "source": [
        "# overview of top 5 data of df1\n",
        "df1.head()"
      ],
      "metadata": {
        "id": "9tOSQ1ToU5kq"
      },
      "execution_count": null,
      "outputs": []
    },
    {
      "cell_type": "markdown",
      "source": [
        "### Dataset Rows & Columns count"
      ],
      "metadata": {
        "id": "7hBIi_osiCS2"
      }
    },
    {
      "cell_type": "code",
      "source": [
        "# getting Rows & Columns count of dataset dataset df\n",
        "df.shape"
      ],
      "metadata": {
        "id": "Kllu7SJgmLij"
      },
      "execution_count": null,
      "outputs": []
    },
    {
      "cell_type": "code",
      "source": [
        "# getting Rows & Columns count of dataset df1\n",
        "df1.shape"
      ],
      "metadata": {
        "id": "Pm3sjv7IW1jk"
      },
      "execution_count": null,
      "outputs": []
    },
    {
      "cell_type": "markdown",
      "source": [
        "### Dataset Information"
      ],
      "metadata": {
        "id": "JlHwYmJAmNHm"
      }
    },
    {
      "cell_type": "code",
      "source": [
        "# summary of data structure in detail(total rows nd columns, null ,dtypes) of dataset df\n",
        "df.info()"
      ],
      "metadata": {
        "id": "e9hRXRi6meOf"
      },
      "execution_count": null,
      "outputs": []
    },
    {
      "cell_type": "code",
      "source": [
        "# summary of data structure in detail(total rows nd columns, null ,dtypes) of dataset df1\n",
        "df1.info()"
      ],
      "metadata": {
        "id": "Elwpo2drXEC7"
      },
      "execution_count": null,
      "outputs": []
    },
    {
      "cell_type": "markdown",
      "source": [
        "#### Duplicate Values"
      ],
      "metadata": {
        "id": "35m5QtbWiB9F"
      }
    },
    {
      "cell_type": "code",
      "source": [
        "# finding duplicates in df\n",
        "df.duplicated().sum()"
      ],
      "metadata": {
        "id": "1sLdpKYkmox0"
      },
      "execution_count": null,
      "outputs": []
    },
    {
      "cell_type": "code",
      "source": [
        "# finding duplicates in df1\n",
        "df1.duplicated().sum()"
      ],
      "metadata": {
        "id": "1JjUnwkPXPhV"
      },
      "execution_count": null,
      "outputs": []
    },
    {
      "cell_type": "markdown",
      "source": [
        "#### Missing Values/Null Values"
      ],
      "metadata": {
        "id": "PoPl-ycgm1ru"
      }
    },
    {
      "cell_type": "code",
      "source": [
        "# finding null values in df\n",
        "df.isnull().sum()"
      ],
      "metadata": {
        "id": "GgHWkxvamxVg"
      },
      "execution_count": null,
      "outputs": []
    },
    {
      "cell_type": "code",
      "source": [
        "# finding null values in df1\n",
        "df1.isnull().sum()"
      ],
      "metadata": {
        "id": "ulLC7ozqXVgQ"
      },
      "execution_count": null,
      "outputs": []
    },
    {
      "cell_type": "code",
      "source": [
        "# Visualizing the missing values in df\n",
        "# Checking Null Value by plotting Heatmap\n",
        "sns.heatmap(df.isnull(), cbar=False )\n",
        "plt.title('Missing Values')\n",
        "plt.xlabel('Categories')\n",
        "plt.ylabel('No. of Rows')\n",
        "plt.show()"
      ],
      "metadata": {
        "id": "3q5wnI3om9sJ"
      },
      "execution_count": null,
      "outputs": []
    },
    {
      "cell_type": "code",
      "source": [
        "# Visualizing the missing values in df1\n",
        "# Checking Null Value by plotting Heatmap\n",
        "sns.heatmap(df1.isnull(), cbar=False )\n",
        "plt.title('Missing Values')\n",
        "plt.xlabel('Categories')\n",
        "plt.ylabel('No. of Rows')\n",
        "plt.show()"
      ],
      "metadata": {
        "id": "15o7JIXsZBgr"
      },
      "execution_count": null,
      "outputs": []
    },
    {
      "cell_type": "markdown",
      "source": [
        "### What did you know about your dataset?"
      ],
      "metadata": {
        "id": "H0kj-8xxnORC"
      }
    },
    {
      "cell_type": "markdown",
      "source": [
        "We have 2 dataset here one is of google play store and other is of user review\n",
        " now we have to perform exploratory data analysis (EDA), we aim to identify correlations between various app attributes such as category, size, price, and rating, and understand their impact on user engagement and satisfaction. Additionally, we seek to explore geographical trends in app usage and popularity across different regions. Ultimately, the insights derived from this analysis will enable stakeholders to optimize their app offerings and maximize their success on the Google Play Store platform.Here"
      ],
      "metadata": {
        "id": "gfoNAAC-nUe_"
      }
    },
    {
      "cell_type": "markdown",
      "source": [
        "## ***2. Understanding Your Variables***"
      ],
      "metadata": {
        "id": "nA9Y7ga8ng1Z"
      }
    },
    {
      "cell_type": "code",
      "source": [
        "# Dataset df Columns\n",
        "df.columns"
      ],
      "metadata": {
        "id": "j7xfkqrt5Ag5"
      },
      "execution_count": null,
      "outputs": []
    },
    {
      "cell_type": "code",
      "source": [
        "# Dataset df1 Columns\n",
        "df1.columns"
      ],
      "metadata": {
        "id": "zxCUtC1LaCVr"
      },
      "execution_count": null,
      "outputs": []
    },
    {
      "cell_type": "code",
      "source": [
        "# Dataset df Describe\n",
        "df.describe(include = 'all')"
      ],
      "metadata": {
        "id": "DnOaZdaE5Q5t"
      },
      "execution_count": null,
      "outputs": []
    },
    {
      "cell_type": "code",
      "source": [
        "# Dataset df1 Describe\n",
        "df1.describe(include = 'all')"
      ],
      "metadata": {
        "id": "fuOX_1LXaVP6"
      },
      "execution_count": null,
      "outputs": []
    },
    {
      "cell_type": "markdown",
      "source": [
        "### Variables Description"
      ],
      "metadata": {
        "id": "PBTbrJXOngz2"
      }
    },
    {
      "cell_type": "markdown",
      "source": [
        "Here we have descripton for all column of both dataset(df and df1)\n",
        "\n",
        "- **App**: Name of the application.\n",
        "- **Category**: Category or genre of the application.\n",
        "- **Rating**: Average user rating of the application.\n",
        "- **Reviews**: Number of user reviews for the application.\n",
        "- **Size**: Size of the application in terms of storage space.\n",
        "- **Installs**: Number of times the application has been installed.\n",
        "- **Type**: Type of the application (e.g., Free or Paid).\n",
        "- **Price**: Price of the application (if it's a paid app).\n",
        "- **Content Rating**: Content rating of the application based on audience suitability.\n",
        "- **Genres**: Sub-genres or additional categorizations of the application.\n",
        "- **Last Updated**: Date when the application was last updated.\n",
        "- **Current Ver**: Current version of the application.\n",
        "- **Android Ver**: Minimum Android version required to run the application.re\n",
        "Certainly, here are the variable descriptions for each column:\n",
        "\n",
        "- **Translated_Review**: Reviews of the application translated into a specific language.\n",
        "- **Sentiment**: Overall sentiment of the translated review (e.g., Positive, Negative, Neutral).\n",
        "- **Sentiment_Polarity**: Numeric value indicating the sentiment polarity (positive, negative, or neutral) of the translated review.\n",
        "- **Sentiment_Subjectivity**: Numeric value indicating the subjectivity (opinionated vs. factual) of the translated review."
      ],
      "metadata": {
        "id": "aJV4KIxSnxay"
      }
    },
    {
      "cell_type": "markdown",
      "source": [
        "### Check Unique Values for each variable."
      ],
      "metadata": {
        "id": "u3PMJOP6ngxN"
      }
    },
    {
      "cell_type": "code",
      "source": [
        "# Check Unique Values for each variable for dataset df\n",
        "df.nunique()"
      ],
      "metadata": {
        "id": "zms12Yq5n-jE"
      },
      "execution_count": null,
      "outputs": []
    },
    {
      "cell_type": "code",
      "source": [
        "# Check Unique Values for each variable for dataset df1\n",
        "df1.nunique()"
      ],
      "metadata": {
        "id": "YyO5xir3dcgN"
      },
      "execution_count": null,
      "outputs": []
    },
    {
      "cell_type": "markdown",
      "source": [
        "## 3. ***Data Wrangling***"
      ],
      "metadata": {
        "id": "dauF4eBmngu3"
      }
    },
    {
      "cell_type": "markdown",
      "source": [
        "### Data Wrangling Code"
      ],
      "metadata": {
        "id": "bKJF3rekwFvQ"
      }
    },
    {
      "cell_type": "markdown",
      "source": [
        "DATA CLEANING AND TRANSFORMATION.\n",
        "--> As We Have Already Removed Duplicates and Null Values so now we're performing below stated steps in order to ensure cleaning of data and after that we will create some new columns i.e calculated fields and will remove those columns which have no use.\n",
        "\n",
        "WILL CHECK BELOW THINGS TO EVERY COLUMN AND WILL PERFORM MANDATORY ACTIONS.\n",
        "\n",
        "--> FOR CLEANING\n",
        "* CHECKING DATATYPE\n",
        "* CHECKING REPEATED VALUES\n",
        "* CHECKING ABNORMALITIES\n",
        "\n",
        "--> DATA TRANSFORMATION\n",
        "* COLUMN DELETING\n",
        "* COLUMN ADDING(CALCULATED FIELD)"
      ],
      "metadata": {
        "id": "jsLFXyvxzqhR"
      }
    },
    {
      "cell_type": "markdown",
      "source": [
        "FIRST WE WILL CLEAN AND MODEL DATASET df, THEN WILL CLEAN AND MODEL DATASET df1"
      ],
      "metadata": {
        "id": "yTuFW_OL2OQp"
      }
    },
    {
      "cell_type": "markdown",
      "source": [
        "CLEANING AND TRANSFORMING df"
      ],
      "metadata": {
        "id": "BNO5oU3V2jUW"
      }
    },
    {
      "cell_type": "code",
      "source": [
        "# finding null values\n",
        "df.isnull().sum()"
      ],
      "metadata": {
        "id": "6CAjfhT4KWY3"
      },
      "execution_count": null,
      "outputs": []
    },
    {
      "cell_type": "markdown",
      "source": [
        "insights for null values for df\n",
        "\n",
        "* as we have very small null values in couple of columns so will remove those rows and in review column we have big amount of null values and this is numerical column so will fill this column with mean value."
      ],
      "metadata": {
        "id": "4OMr30pjLCy5"
      }
    },
    {
      "cell_type": "code",
      "source": [
        "# dropping all null values which are small in numbers\n",
        "df = df.dropna(axis=0, subset ={'Content Rating','Type','Android Ver','Current Ver'})"
      ],
      "metadata": {
        "id": "_wUHQjZEBjBF"
      },
      "execution_count": null,
      "outputs": []
    },
    {
      "cell_type": "code",
      "source": [
        "# finding duplicates in df\n",
        "df.duplicated().sum()"
      ],
      "metadata": {
        "id": "4FSPnQiqMFxC"
      },
      "execution_count": null,
      "outputs": []
    },
    {
      "cell_type": "markdown",
      "source": [
        "insights for duplicate values in df\n",
        "\n",
        "* as we have observed that 'App' category contains most duplicates so will analyse it with same column and will remove after analysing"
      ],
      "metadata": {
        "id": "rPMOYF5FMssM"
      }
    },
    {
      "cell_type": "code",
      "source": [
        "# observing for 'App' column\n",
        "df['App'].unique()"
      ],
      "metadata": {
        "id": "QEwOLh62184c"
      },
      "execution_count": null,
      "outputs": []
    },
    {
      "cell_type": "code",
      "source": [
        "# finding duplicates in 'App' column as 'App' column needs to contains only unique values\n",
        "df.duplicated(subset = 'App').sum()"
      ],
      "metadata": {
        "id": "OMBPfjbz2DdK"
      },
      "execution_count": null,
      "outputs": []
    },
    {
      "cell_type": "code",
      "source": [
        "# dropping duplicates from app column\n",
        "df = df.drop_duplicates(subset = 'App')"
      ],
      "metadata": {
        "id": "-mgSB4wIFnIc"
      },
      "execution_count": null,
      "outputs": []
    },
    {
      "cell_type": "code",
      "source": [
        "# observing column Category\n",
        "df.Category.unique()"
      ],
      "metadata": {
        "id": "zEn4_dElFnId"
      },
      "execution_count": null,
      "outputs": []
    },
    {
      "cell_type": "code",
      "source": [
        "# insights of column 'App'\n",
        "\n",
        "# * abnormalities: none\n",
        "# * repeatation in data : yes so will remove duplicates\n",
        "# * dtype : will remain same"
      ],
      "metadata": {
        "id": "GBA8shcjIOKU"
      },
      "execution_count": null,
      "outputs": []
    },
    {
      "cell_type": "code",
      "source": [
        "# dropping duplicates from app column\n",
        "df = df.drop_duplicates(subset = 'App')"
      ],
      "metadata": {
        "id": "aSe7xhXaIaRx"
      },
      "execution_count": null,
      "outputs": []
    },
    {
      "cell_type": "code",
      "source": [
        "# observing column Category\n",
        "df.Category.unique()"
      ],
      "metadata": {
        "id": "JtywnxL3Id74"
      },
      "execution_count": null,
      "outputs": []
    },
    {
      "cell_type": "code",
      "source": [
        "# insights of column 'Category'\n",
        "\n",
        "# * abnormalities: to replace '_AND_'  with ' & '\n",
        "# * repeatation in data : none\n",
        "# * dtype : will remain same"
      ],
      "metadata": {
        "id": "6iCw3anKI_ek"
      },
      "execution_count": null,
      "outputs": []
    },
    {
      "cell_type": "code",
      "source": [
        "# replacing '_AND_' with ' & ' in Category column\n",
        "df['Category'] = df['Category'].str.replace('_AND_', ' & ')"
      ],
      "metadata": {
        "id": "1aikFTO_I_O_"
      },
      "execution_count": null,
      "outputs": []
    },
    {
      "cell_type": "code",
      "source": [
        "# observing size column\n",
        "df.Size.value_counts()"
      ],
      "metadata": {
        "id": "TJNiYrW2I-9q"
      },
      "execution_count": null,
      "outputs": []
    },
    {
      "cell_type": "code",
      "source": [
        "# insights of column 'Size'\n",
        "\n",
        "# * abnormalities: to replace 'M' to '', 'Varies with device' to 'nan'and 'k' to '' and will divide it with 1000 to get all values in MB(MEGABYTE)\n",
        "# * repeatation in data : none\n",
        "# * dtype : will change in float"
      ],
      "metadata": {
        "id": "qOarGcjxI-oN"
      },
      "execution_count": null,
      "outputs": []
    },
    {
      "cell_type": "code",
      "source": [
        "# replacing 'M' with ''\n",
        "df['Size'] = df['Size'].apply(lambda x: x.replace('M','') if 'M' in x else x)"
      ],
      "metadata": {
        "id": "Om8I1FbtJWGa"
      },
      "execution_count": null,
      "outputs": []
    },
    {
      "cell_type": "code",
      "source": [
        "# replacing 'k' with '' and changing to float and then dividing by 1000 to convert data in MB\n",
        "df['Size'] = df['Size'].apply(lambda x: float(x.replace('k','')) / 1000 if 'k' in x else x)"
      ],
      "metadata": {
        "id": "uH81kQlyJWEG"
      },
      "execution_count": null,
      "outputs": []
    },
    {
      "cell_type": "code",
      "source": [
        "# now changing 'Size' column dtype into string to replace 'Varies with device' into 'nan' as we can't iterate numbers.\n",
        "df['Size'] = df['Size'].astype('str')"
      ],
      "metadata": {
        "id": "rRAAPEF8JWBb"
      },
      "execution_count": null,
      "outputs": []
    },
    {
      "cell_type": "code",
      "source": [
        "# now replacing 'Varies with device' with 'nan'\n",
        "df['Size'] = df['Size'].apply(lambda x: x.replace('Varies with device','nan') if 'Varies with device' in x else x)"
      ],
      "metadata": {
        "id": "nwzuadsMJV-d"
      },
      "execution_count": null,
      "outputs": []
    },
    {
      "cell_type": "code",
      "source": [
        "# again chganging 'Size' column dtype into float\n",
        "df['Size'] = df['Size'].astype('float64')"
      ],
      "metadata": {
        "id": "THE555XOJV7s"
      },
      "execution_count": null,
      "outputs": []
    },
    {
      "cell_type": "code",
      "source": [
        "# observing column Rating\n",
        "df.Rating.unique()"
      ],
      "metadata": {
        "id": "eHMnwe-QJV49"
      },
      "execution_count": null,
      "outputs": []
    },
    {
      "cell_type": "code",
      "source": [
        "# insights of Rating column\n",
        "\n",
        "# * abnormalities: found nan value, now finding mean and will fill all nan.\n",
        "# * repeatation in data : none\n",
        "# * dtype : remain same"
      ],
      "metadata": {
        "id": "zous6jYIJV2S"
      },
      "execution_count": null,
      "outputs": []
    },
    {
      "cell_type": "code",
      "source": [
        "# finding mean values to replace all null values in Rating column\n",
        "df['Rating'].mean()"
      ],
      "metadata": {
        "id": "2dXeoQIIJVzN"
      },
      "execution_count": null,
      "outputs": []
    },
    {
      "cell_type": "code",
      "source": [
        "# filling all nan values with mean values\n",
        "df.fillna({'Rating': 4.2},inplace = True)"
      ],
      "metadata": {
        "id": "Nznr2xPsJVnE"
      },
      "execution_count": null,
      "outputs": []
    },
    {
      "cell_type": "code",
      "source": [
        "# observing column Reviews\n",
        "df.Reviews.unique()"
      ],
      "metadata": {
        "id": "eeTu02GsJ3xG"
      },
      "execution_count": null,
      "outputs": []
    },
    {
      "cell_type": "code",
      "source": [
        "# # insights of Reviews column\n",
        "\n",
        "# * abnormalities: none\n",
        "# * repeatation in data : none\n",
        "# * dtype : changing dtype into int"
      ],
      "metadata": {
        "id": "LAnmZe3yJ9u4"
      },
      "execution_count": null,
      "outputs": []
    },
    {
      "cell_type": "code",
      "source": [
        "# changed datatype\n",
        "df['Reviews'] = df['Reviews'].astype('int64')"
      ],
      "metadata": {
        "id": "ZZgsfvxJJ9k6"
      },
      "execution_count": null,
      "outputs": []
    },
    {
      "cell_type": "code",
      "source": [
        "# observing Installs column\n",
        "df.Installs.unique()"
      ],
      "metadata": {
        "id": "ZC_cJ73KKKYx"
      },
      "execution_count": null,
      "outputs": []
    },
    {
      "cell_type": "code",
      "source": [
        "# # insights of Installs column\n",
        "\n",
        "# * abnormalities: need to remove '+', and ',' to change dtype\n",
        "# * repeatation in data : none\n",
        "# * dtype : changing dtype into int"
      ],
      "metadata": {
        "id": "cJ7k1Lm2KQoU"
      },
      "execution_count": null,
      "outputs": []
    },
    {
      "cell_type": "code",
      "source": [
        "# replacing '+' with ''\n",
        "df['Installs'] = df['Installs'].str.replace('+','')"
      ],
      "metadata": {
        "id": "mnD0Eo9mKQYj"
      },
      "execution_count": null,
      "outputs": []
    },
    {
      "cell_type": "code",
      "source": [
        "# replacing ',' with ''\n",
        "df['Installs'] = df['Installs'].str.replace(',','')"
      ],
      "metadata": {
        "id": "ckNK6FUKKX0U"
      },
      "execution_count": null,
      "outputs": []
    },
    {
      "cell_type": "code",
      "source": [
        "# changing dtype into int\n",
        "df['Installs'] = df['Installs'].astype('int64')"
      ],
      "metadata": {
        "id": "pVyafY3oKXpG"
      },
      "execution_count": null,
      "outputs": []
    },
    {
      "cell_type": "code",
      "source": [
        "# observing Type Category\n",
        "df.Type.unique()"
      ],
      "metadata": {
        "id": "aa0hEP9UKXdg"
      },
      "execution_count": null,
      "outputs": []
    },
    {
      "cell_type": "code",
      "source": [
        "# # insights of Type column\n",
        "\n",
        "# * abnormalities: none\n",
        "# * repeatation in data : none\n",
        "# * dtype : remain same"
      ],
      "metadata": {
        "id": "1KJ9W85hKqX4"
      },
      "execution_count": null,
      "outputs": []
    },
    {
      "cell_type": "code",
      "source": [
        "# observing Price Category\n",
        "df.Price.unique()"
      ],
      "metadata": {
        "id": "lYGhnWJNKqUW"
      },
      "execution_count": null,
      "outputs": []
    },
    {
      "cell_type": "code",
      "source": [
        "# # insights of Price column\n",
        "\n",
        "# * abnormalities: to remove '$' in order to change dtype\n",
        "# * repeatation in data : none\n",
        "# * dtype : to change in float"
      ],
      "metadata": {
        "id": "QDv0yyQXKqQh"
      },
      "execution_count": null,
      "outputs": []
    },
    {
      "cell_type": "code",
      "source": [
        "# replacing $ with ''\n",
        "df['Price'] = df['Price'].str.replace('$','')"
      ],
      "metadata": {
        "id": "FazvGR99KqMP"
      },
      "execution_count": null,
      "outputs": []
    },
    {
      "cell_type": "code",
      "source": [
        "# changing dtype into float\n",
        "df['Price'] = df['Price'].astype('float64')"
      ],
      "metadata": {
        "id": "TTIjv5cZKp_v"
      },
      "execution_count": null,
      "outputs": []
    },
    {
      "cell_type": "code",
      "source": [
        "# observing Content Rating\n",
        "df['Content Rating'].unique()"
      ],
      "metadata": {
        "id": "RW4-ggvNLA2f"
      },
      "execution_count": null,
      "outputs": []
    },
    {
      "cell_type": "code",
      "source": [
        "# # insights of Content Rating column\n",
        "\n",
        "# * abnormalities: none\n",
        "# * repeatation in data : none\n",
        "# * dtype : remain same"
      ],
      "metadata": {
        "id": "XgLffqFsLAov"
      },
      "execution_count": null,
      "outputs": []
    },
    {
      "cell_type": "code",
      "source": [
        "# observing 'Genres'\n",
        "df.Genres.unique()"
      ],
      "metadata": {
        "id": "yBLjfCl-LSKF"
      },
      "execution_count": null,
      "outputs": []
    },
    {
      "cell_type": "code",
      "source": [
        "# # insights of 'Genres' column\n",
        "\n",
        "# * as we already have 'Category' column and genre column is mixed of category and sub category in which sub category having mostly 'none' values also having very less count so we can delete this column this action will have no impact on data set\n"
      ],
      "metadata": {
        "id": "-uRCd3HoLR--"
      },
      "execution_count": null,
      "outputs": []
    },
    {
      "cell_type": "code",
      "source": [
        "# removing 'Genres' column\n",
        "df = df.drop( columns= 'Genres')"
      ],
      "metadata": {
        "id": "VskmoTBALRwo"
      },
      "execution_count": null,
      "outputs": []
    },
    {
      "cell_type": "code",
      "source": [
        "# observing Last Updated column\n",
        "df['Last Updated'].unique()"
      ],
      "metadata": {
        "id": "IOGRV_VBLg_T"
      },
      "execution_count": null,
      "outputs": []
    },
    {
      "cell_type": "code",
      "source": [
        "#  # insights of Last Updated column\n",
        "\n",
        "# * abnormalities: none\n",
        "# * repeatation in data : none\n",
        "# * dtype : to change in datetime"
      ],
      "metadata": {
        "id": "SR4EgPn-Lx0t"
      },
      "execution_count": null,
      "outputs": []
    },
    {
      "cell_type": "code",
      "source": [
        "# changing dtype in datetime\n",
        "df['Last Updated'] = pd.to_datetime(df['Last Updated'])"
      ],
      "metadata": {
        "id": "z7O6qe2GLxmA"
      },
      "execution_count": null,
      "outputs": []
    },
    {
      "cell_type": "code",
      "source": [
        "# observing Content Rating\n",
        "df['Current Ver'].value_counts()"
      ],
      "metadata": {
        "id": "dvNvqjv6nfQd"
      },
      "execution_count": null,
      "outputs": []
    },
    {
      "cell_type": "code",
      "source": [
        "# # insights of Current Ver column\n",
        "\n",
        "# * abnormalities: none\n",
        "# * repeatation in data : none\n",
        "# * dtype : remain same"
      ],
      "metadata": {
        "id": "GLWxEs1EnfBW"
      },
      "execution_count": null,
      "outputs": []
    },
    {
      "cell_type": "code",
      "source": [
        "# observing Android Ver\n",
        "df['Android Ver'].unique()"
      ],
      "metadata": {
        "id": "Gn3B8siPnp3i"
      },
      "execution_count": null,
      "outputs": []
    },
    {
      "cell_type": "code",
      "source": [
        "# # insights of Android Ver column\n",
        "\n",
        "# * abnormalities: to remove 'W' from '4.4W', and replacing 'upper range values' to 'and up'\n",
        "# * repeatation in data : none\n",
        "# * dtype : remain same"
      ],
      "metadata": {
        "id": "O2BRRfu3npz_"
      },
      "execution_count": null,
      "outputs": []
    },
    {
      "cell_type": "code",
      "source": [
        "# removing 'W' with ''\n",
        "df['Android Ver'] = df['Android Ver'].str.replace('W', '')"
      ],
      "metadata": {
        "id": "SBrMUL6bnpwh"
      },
      "execution_count": null,
      "outputs": []
    },
    {
      "cell_type": "code",
      "source": [
        "# replacing '- 7.1.1' to 'and up'\n",
        "df['Android Ver'] = df['Android Ver'].str.replace('- 7.1.1', 'and up')"
      ],
      "metadata": {
        "id": "chzm8vA7n7JJ"
      },
      "execution_count": null,
      "outputs": []
    },
    {
      "cell_type": "code",
      "source": [
        "# replacing '- 8.0'' to 'and up'\n",
        "df['Android Ver'] = df['Android Ver'].str.replace('- 8.0', 'and up')"
      ],
      "metadata": {
        "id": "G4SMIGSin6_P"
      },
      "execution_count": null,
      "outputs": []
    },
    {
      "cell_type": "code",
      "source": [
        "# replacing '- 6.0' to 'and up'\n",
        "df['Android Ver'] = df['Android Ver'].str.replace('- 6.0', 'and up')"
      ],
      "metadata": {
        "id": "wkdWWCfWn6wV"
      },
      "execution_count": null,
      "outputs": []
    },
    {
      "cell_type": "code",
      "source": [
        "# ensuring all changes takes place\n",
        "df.info()"
      ],
      "metadata": {
        "id": "vUzr37NFoFR0"
      },
      "execution_count": null,
      "outputs": []
    },
    {
      "cell_type": "code",
      "source": [
        "# having a sneak peak to ensure changes\n",
        "df.head()"
      ],
      "metadata": {
        "id": "9UsfdlTkoFJM"
      },
      "execution_count": null,
      "outputs": []
    },
    {
      "cell_type": "code",
      "source": [
        "# CLEANING AND TRANSFORMING DATASET df1"
      ],
      "metadata": {
        "id": "QBfBqtiuoFAT"
      },
      "execution_count": null,
      "outputs": []
    },
    {
      "cell_type": "code",
      "source": [
        "# finding duplicates\n",
        "df1.duplicated().sum()"
      ],
      "metadata": {
        "id": "SGG0q_dYobnS"
      },
      "execution_count": null,
      "outputs": []
    },
    {
      "cell_type": "code",
      "source": [
        "# insights for duplicates in df1\n",
        "\n",
        "# * having duplicate 33616 rows so will remove all"
      ],
      "metadata": {
        "id": "hu4Ww7wUobGV"
      },
      "execution_count": null,
      "outputs": []
    },
    {
      "cell_type": "code",
      "source": [
        "# dropping duplicates\n",
        "df1 = df1.drop_duplicates()"
      ],
      "metadata": {
        "id": "UfOyRC96ol6d"
      },
      "execution_count": null,
      "outputs": []
    },
    {
      "cell_type": "code",
      "source": [
        "# finding null values\n",
        "df1.isnull().sum()"
      ],
      "metadata": {
        "id": "_ZmhrWNHolsR"
      },
      "execution_count": null,
      "outputs": []
    },
    {
      "cell_type": "code",
      "source": [
        "# insights for null values in df1\n",
        "\n",
        "# * as we have only 5 columns in which 4 have null values so will remove all corresponding rows to get clean data"
      ],
      "metadata": {
        "id": "HHm0Kke_oxRC"
      },
      "execution_count": null,
      "outputs": []
    },
    {
      "cell_type": "code",
      "source": [
        "# dropping all null values\n",
        "df1 = df1.dropna(axis = 0)"
      ],
      "metadata": {
        "id": "YvXcZvejoxOF"
      },
      "execution_count": null,
      "outputs": []
    },
    {
      "cell_type": "code",
      "source": [
        "# observing App column of df1\n",
        "df1['App'].unique()"
      ],
      "metadata": {
        "id": "v9OWyYI8oxKi"
      },
      "execution_count": null,
      "outputs": []
    },
    {
      "cell_type": "code",
      "source": [
        "# # insights of App column\n",
        "\n",
        "# * abnormalities: none\n",
        "# * repeatation in data : none\n",
        "# * dtype : remain same"
      ],
      "metadata": {
        "id": "5pxwQlvNoxG_"
      },
      "execution_count": null,
      "outputs": []
    },
    {
      "cell_type": "code",
      "source": [
        "# observing Translated_Review column of df1\n",
        "df1['Translated_Review'].unique()"
      ],
      "metadata": {
        "id": "1E4bUSmKow-x"
      },
      "execution_count": null,
      "outputs": []
    },
    {
      "cell_type": "code",
      "source": [
        "# # insights of Translated_Review column\n",
        "\n",
        "# * abnormalities: none\n",
        "# * repeatation in data : none\n",
        "# * dtype : remain same"
      ],
      "metadata": {
        "id": "F6mzIbN5pcIa"
      },
      "execution_count": null,
      "outputs": []
    },
    {
      "cell_type": "code",
      "source": [
        "# observing Sentiment column of df1\n",
        "df1['Sentiment'].unique()"
      ],
      "metadata": {
        "id": "l1BlVtRQpcFG"
      },
      "execution_count": null,
      "outputs": []
    },
    {
      "cell_type": "code",
      "source": [
        "# checking amount of null values\n",
        "df1['Sentiment'].value_counts()"
      ],
      "metadata": {
        "id": "ebIj-jJFpcBo"
      },
      "execution_count": null,
      "outputs": []
    },
    {
      "cell_type": "code",
      "source": [
        "# # insights of Sentiment column\n",
        "\n",
        "# * abnormalities: have null values and small in amount so will delete all null values\n",
        "# * repeatation in data : none\n",
        "# * dtype : remain same"
      ],
      "metadata": {
        "id": "NxHvshXUpb93"
      },
      "execution_count": null,
      "outputs": []
    },
    {
      "cell_type": "code",
      "source": [
        "# observing Sentiment column of df1\n",
        "df1['Sentiment_Polarity'].unique()"
      ],
      "metadata": {
        "id": "Olgde4sFpb5z"
      },
      "execution_count": null,
      "outputs": []
    },
    {
      "cell_type": "code",
      "source": [
        "# # insights of Sentiment_Polarity column\n",
        "\n",
        "# * abnormalities: none\n",
        "# * repeatation in data : none\n",
        "# * dtype : remain same"
      ],
      "metadata": {
        "id": "lP0ay-X0p_JW"
      },
      "execution_count": null,
      "outputs": []
    },
    {
      "cell_type": "code",
      "source": [
        "# observing Sentiment_Subjectivity column of df1\n",
        "df1['Sentiment_Subjectivity'].unique()"
      ],
      "metadata": {
        "id": "CHdiDawrp-9L"
      },
      "execution_count": null,
      "outputs": []
    },
    {
      "cell_type": "code",
      "source": [
        "# # insights of Sentiment_Subjectivity column\n",
        "\n",
        "# * abnormalities: none\n",
        "# * repeatation in data : none\n",
        "# * dtype : remain same"
      ],
      "metadata": {
        "id": "JuMWj4QiqIjc"
      },
      "execution_count": null,
      "outputs": []
    },
    {
      "cell_type": "code",
      "source": [
        "# observing Translated_Review column of df1\n",
        "df1['Translated_Review'].unique()"
      ],
      "metadata": {
        "id": "Il1ZoVkZQKGH"
      },
      "execution_count": null,
      "outputs": []
    },
    {
      "cell_type": "markdown",
      "source": [
        "### What all manipulations have you done and insights you found?"
      ],
      "metadata": {
        "id": "MSa1f5Uengrz"
      }
    },
    {
      "cell_type": "markdown",
      "source": [
        "Answer Here. I have cleaned and transformed and analysed the dataset thoroughly in order to perform EDA(EXPLORATORY DATA ANALYSIS). Firstly i have checked for all bad elements in data such as null values, duplicates , datatype error, abnormalities, columns to split and remove, etc. Then i have applied data cleaning method in which i removed null values from several columns , removed duplicates, removed and fixed abnormalities, removed unwanted columns and rows, changed datatypes of columns, splitted columns into two parts, applied lambda function for manipulation, replaced values where needed. Then after every manipulation i have created a note of it that what was problem and what manipulation needed and what i have performed then after i have assured by checking every column that i have cleaned my data or not to ensure 100% cleaning. Also i have created some calculated columns to find KEY METRICS and KPIs for data and other columns as per the need after analysing data thoroughly. I have applied above procedure for both of my dataset and cleaned and fixed wherever needed."
      ],
      "metadata": {
        "id": "LbyXE7I1olp8"
      }
    },
    {
      "cell_type": "markdown",
      "source": [
        "## ***4. Data Vizualization, Storytelling & Experimenting with charts : Understand the relationships between variables***"
      ],
      "metadata": {
        "id": "GF8Ens_Soomf"
      }
    },
    {
      "cell_type": "markdown",
      "source": [
        "#### Chart - 1 Category wise apps"
      ],
      "metadata": {
        "id": "0wOQAZs5pc--"
      }
    },
    {
      "cell_type": "code",
      "source": [
        "# to find no. of apps in each category\n",
        "plt.figure(figsize =(16,4))\n",
        "dc = df.groupby(['Category']).count()['App'].sort_values(ascending = False)\n",
        "sns.barplot(data =  dc)\n",
        "plt.xticks(rotation=90)\n",
        "plt.title('category wise no. of apps')\n",
        "plt.show()\n",
        "\n"
      ],
      "metadata": {
        "id": "7v_ESjsspbW7"
      },
      "execution_count": null,
      "outputs": []
    },
    {
      "cell_type": "markdown",
      "source": [
        "##### 1. Why did you pick the specific chart?"
      ],
      "metadata": {
        "id": "K5QZ13OEpz2H"
      }
    },
    {
      "cell_type": "markdown",
      "source": [
        "Category Comparison: Bar plots are excellent for comparing the frequency or count of items in different categories, such as the number of apps in each category in this case.\n",
        "\n",
        "Readability: The bar plot's vertical bars make it easy to see the differences in counts between categories. Additionally, by rotating the x-axis labels with plt.xticks(rotation=90), you've ensured that the category labels are readable even if there are many categories.\n",
        "\n",
        "Ordered Presentation: Sorting the categories by count (dc = df.groupby(['Category']).count()['App'].sort_values(ascending=False)) helps in presenting the data in a more organized and meaningful way. This allows viewers to quickly identify the categories with the most and least number of apps.\n",
        "\n",
        "Visual Impact: The large size of the figure (plt.figure(figsize=(16,4)) enhances the visual impact of the chart, making it easier to read and interpret.\n",
        "\n",
        "Overall, the bar plot effectively communicates the distribution of apps across different categories, making it a suitable choice for visualizing this type of data.Answer Here."
      ],
      "metadata": {
        "id": "XESiWehPqBRc"
      }
    },
    {
      "cell_type": "markdown",
      "source": [
        "##### 2. What is/are the insight(s) found from the chart?"
      ],
      "metadata": {
        "id": "lQ7QKXXCp7Bj"
      }
    },
    {
      "cell_type": "markdown",
      "source": [
        "From the bar plot showing the number of apps in each category, you can derive several insights:\n",
        "\n",
        "Most Popular Categories: You can easily identify the categories with the highest number of apps, which likely indicates the most popular or widely represented app categories.\n",
        "\n",
        "Least Popular Categories: Conversely, you can identify the categories with the lowest number of apps, which may represent niche or less competitive segments of the app market.\n",
        "\n",
        "Market Dominance: Categories with a significantly higher number of apps compared to others may indicate market dominance or strong competition within those categories.\n",
        "\n",
        "Opportunities for Growth: Categories with a relatively low number of apps but still significant user demand may present opportunities for app developers to enter less saturated markets and target specific user needs.\n",
        "\n",
        "Trends and Preferences: Changes in the distribution of apps across categories over time can reveal emerging trends or shifts in user preferences, which can inform strategic decisions for app development and marketing.\n",
        "\n",
        "Overall, analyzing the distribution of apps across categories can provide valuable insights into market dynamics, competitive landscape, and opportunities for growth within the app industryAnswer Here"
      ],
      "metadata": {
        "id": "C_j1G7yiqdRP"
      }
    },
    {
      "cell_type": "markdown",
      "source": [
        "##### 3. Will the gained insights help creating a positive business impact?\n",
        "Are there any insights that lead to negative growth? Justify with specific reason.\n",
        "\n",
        "Yes, the insights gained from analyzing the distribution of apps across categories can indeed help create a positive business impact. Understanding market trends, competitive dynamics, and areas of opportunity can inform strategic decision-making and potentially lead to:\n",
        "\n",
        "Better Resource Allocation: By identifying the most popular categories with high demand and competition, businesses can allocate resources such as marketing budgets, development efforts, and talent recruitment to capitalize on these lucrative segments of the market.\n",
        "\n",
        "Product Development: Insights into emerging trends and user preferences can guide product development efforts, enabling businesses to create apps that better align with market demand and user needs. This can result in higher user engagement, retention, and ultimately, revenue generation.\n",
        "\n",
        "Market Positioning and Differentiation: Understanding the competitive landscape and niche segments of the market allows businesses to strategically position their apps and differentiate themselves from competitors. By targeting underserved or less competitive categories, businesses can carve out a unique value proposition and attract a specific audience.\n",
        "\n",
        "Optimized Marketing Strategies: Insights into category popularity and user behavior can inform marketing strategies, including targeted advertising campaigns, partnerships, and promotions. By focusing resources on channels and audiences with the highest potential for engagement and conversion, businesses can maximize the effectiveness of their marketing efforts.\n",
        "\n",
        "Regarding insights that may lead to negative growth, one potential scenario could be:\n",
        "\n",
        "Saturated Markets: If the analysis reveals that certain categories are highly saturated with a large number of apps competing for market share, entering or investing heavily in these categories may lead to intense competition, diminishing returns, and potentially negative growth. In such cases, businesses may struggle to stand out among competitors, acquire users cost-effectively, or achieve sustainable revenue streams.\n",
        "It's essential for businesses to carefully evaluate the competitive landscape, market dynamics, and their own capabilities before making strategic decisions based on insights derived from data analysis. While certain insights may present opportunities for growth, others may signal challenges or risks that require careful consideration and mitigation strategies.\n",
        "\n",
        "\n",
        "\n",
        "\n",
        "\n"
      ],
      "metadata": {
        "id": "448CDAPjqfQr"
      }
    },
    {
      "cell_type": "markdown",
      "source": [
        "Answer Here\n",
        "\n",
        "Yes, the insights gained from analyzing the distribution of apps across categories can indeed help create a positive business impact. Understanding market trends, competitive dynamics, and areas of opportunity can inform strategic decision-making and potentially lead to:\n",
        "\n",
        "Better Resource Allocation: By identifying the most popular categories with high demand and competition, businesses can allocate resources such as marketing budgets, development efforts, and talent recruitment to capitalize on these lucrative segments of the market.\n",
        "\n",
        "Product Development: Insights into emerging trends and user preferences can guide product development efforts, enabling businesses to create apps that better align with market demand and user needs. This can result in higher user engagement, retention, and ultimately, revenue generation.\n",
        "\n",
        "Market Positioning and Differentiation: Understanding the competitive landscape and niche segments of the market allows businesses to strategically position their apps and differentiate themselves from competitors. By targeting underserved or less competitive categories, businesses can carve out a unique value proposition and attract a specific audience.\n",
        "\n",
        "Optimized Marketing Strategies: Insights into category popularity and user behavior can inform marketing strategies, including targeted advertising campaigns, partnerships, and promotions. By focusing resources on channels and audiences with the highest potential for engagement and conversion, businesses can maximize the effectiveness of their marketing efforts.\n",
        "\n",
        "Regarding insights that may lead to negative growth, one potential scenario could be:\n",
        "\n",
        "Saturated Markets: If the analysis reveals that certain categories are highly saturated with a large number of apps competing for market share, entering or investing heavily in these categories may lead to intense competition, diminishing returns, and potentially negative growth. In such cases, businesses may struggle to stand out among competitors, acquire users cost-effectively, or achieve sustainable revenue streams.\n",
        "It's essential for businesses to carefully evaluate the competitive landscape, market dynamics, and their own capabilities before making strategic decisions based on insights derived from data analysis. While certain insights may present opportunities for growth, others may signal challenges or risks that require careful consideration and mitigation strategies.\n",
        "\n",
        "\n",
        "\n",
        "\n",
        "\n"
      ],
      "metadata": {
        "id": "3cspy4FjqxJW"
      }
    },
    {
      "cell_type": "markdown",
      "source": [
        "#### Chart 2 - top 10 categories review wise"
      ],
      "metadata": {
        "id": "KSlN3yHqYklG"
      }
    },
    {
      "cell_type": "code",
      "source": [
        "# Chart - 2 reviews of top 10 categories\n",
        "plt.figure(figsize =(16,4))\n",
        "sns.barplot(x = 'Category', y = 'Reviews', data = df)\n",
        "plt.title('top 10 category wise apps')\n",
        "df.sort_values(by = 'Category' , ascending = True)\n",
        "plt.xticks(rotation=90)\n",
        "plt.show()"
      ],
      "metadata": {
        "id": "R4YgtaqtYklH"
      },
      "execution_count": null,
      "outputs": []
    },
    {
      "cell_type": "markdown",
      "source": [
        "##### 1. Why did you pick the specific chart?"
      ],
      "metadata": {
        "id": "t6dVpIINYklI"
      }
    },
    {
      "cell_type": "markdown",
      "source": [
        "Answer Here.\n",
        "\n",
        "Insights that can be derived from this chart include:\n",
        "Category Popularity: Identifying which categories have the highest number of reviews can indicate the overall popularity of app categories among users. Categories with a large number of reviews may signify high user engagement and satisfaction.\n",
        "\n",
        "User Feedback: Review counts can serve as a proxy for user feedback and satisfaction levels. Categories with higher review counts may have a larger pool of user-generated feedback, providing insights into user preferences, feature requests, and areas for improvement.\n",
        "\n",
        "Competitive Analysis: Analyzing review counts across categories can help assess the competitive landscape. Categories with a high concentration of reviews may indicate intense competition, while categories with fewer reviews may present opportunities for market entry or differentiation.\n",
        "\n",
        "Strategic Decision-Making: Insights from this analysis can inform strategic decision-making, such as resource allocation, product prioritization, and marketing strategies. Businesses can focus their efforts on categories with high user engagement and positive feedback, maximizing the potential for success.\n",
        "\n",
        "By visualizing review counts across different app categories, businesses can gain valuable insights into user behavior, market trends, and competitive dynamics, enabling them to make data-driven decisions to drive growth and success in the app marketplace.\n"
      ],
      "metadata": {
        "id": "5aaW0BYyYklI"
      }
    },
    {
      "cell_type": "markdown",
      "source": [
        "##### 2. What is/are the insight(s) found from the chart?"
      ],
      "metadata": {
        "id": "ijmpgYnKYklI"
      }
    },
    {
      "cell_type": "markdown",
      "source": [
        "Answer Here\n",
        "\n",
        "From the chart, some insights that can be derived include:\n",
        "\n",
        "Category Engagement: The chart provides a visual representation of the distribution of reviews across different app categories. It allows us to identify which categories have the highest levels of user engagement based on the number of reviews.\n",
        "\n",
        "Top Categories: By analyzing the bar heights, we can identify the top categories in terms of review counts. These categories are likely to be the most popular or widely used among users.\n",
        "\n",
        "Relative Performance: Comparing the lengths of the bars allows us to gauge the relative performance of different categories in terms of user engagement. Categories with taller bars indicate higher review counts and potentially stronger user engagement.\n",
        "\n",
        "User Preferences: The chart helps us understand user preferences and interests by highlighting the categories that attract the most attention and feedback from users. This information can be valuable for app developers and businesses seeking to tailor their offerings to meet user needs.\n",
        "\n",
        "Overall, the chart provides valuable insights into user engagement and preferences across different app categories, which can inform strategic decision-making, marketing efforts, and product development initiatives."
      ],
      "metadata": {
        "id": "PSx9atu2YklI"
      }
    },
    {
      "cell_type": "markdown",
      "source": [
        "##### 3. Will the gained insights help creating a positive business impact?\n",
        "Are there any insights that lead to negative growth? Justify with specific reason."
      ],
      "metadata": {
        "id": "-JiQyfWJYklI"
      }
    },
    {
      "cell_type": "markdown",
      "source": [
        "Answer Here\n",
        "\n",
        "The insights gained from the chart can indeed help create a positive business impact in several ways:\n",
        "\n",
        "Informed Decision-Making: Understanding which app categories attract the most user engagement can guide businesses in allocating resources and investments more effectively. They can focus their efforts on developing and promoting apps in categories that have high user interest, potentially leading to increased downloads and revenue.\n",
        "\n",
        "Targeted Marketing: Armed with knowledge about user preferences and popular app categories, businesses can tailor their marketing strategies to target relevant audiences more effectively. This targeted approach can result in higher conversion rates and customer satisfaction.\n",
        "\n",
        "Product Development: Insights from the chart can inform product development initiatives, allowing businesses to prioritize features and functionalities that resonate with users in popular app categories. By aligning their offerings with user preferences, businesses can enhance user experience and loyalty.\n",
        "\n",
        "However, there might be some insights that could potentially lead to negative growth if not addressed appropriately:\n",
        "\n",
        "Neglected Categories: If certain app categories have consistently low review counts compared to others, it could indicate a lack of user interest or dissatisfaction with existing offerings. Ignoring these categories or failing to address user concerns within them could lead to negative growth over time as competitors may capitalize on unmet needs.\n",
        "\n",
        "Poor User Experience: Categories with high review counts but predominantly negative feedback may indicate issues with user experience, functionality, or performance. Ignoring or neglecting these concerns could result in churn as dissatisfied users seek alternatives, leading to negative growth and reputation damage.\n",
        "\n",
        "In summary, while the insights gained from the chart offer opportunities for positive business impact, it's essential for businesses to also address any potential pitfalls or areas of concern to avoid negative growth and maintain competitiveness in the market.\n",
        "\n",
        "\n",
        "\n",
        "\n",
        "\n"
      ],
      "metadata": {
        "id": "BcBbebzrYklV"
      }
    },
    {
      "cell_type": "markdown",
      "source": [
        "#### Chart 3 - total count vs total installs"
      ],
      "metadata": {
        "id": "EM7whBJCYoAo"
      }
    },
    {
      "cell_type": "code",
      "source": [
        "#  Chart 3 - total count vs total installs\n",
        "plt.figure(figsize = (14,6))\n",
        "plt.xticks(rotation = 90)\n",
        "sns.countplot(x = 'Installs', data = df)"
      ],
      "metadata": {
        "id": "t6GMdE67YoAp"
      },
      "execution_count": null,
      "outputs": []
    },
    {
      "cell_type": "markdown",
      "source": [
        "##### 1. Why did you pick the specific chart?"
      ],
      "metadata": {
        "id": "fge-S5ZAYoAp"
      }
    },
    {
      "cell_type": "markdown",
      "source": [
        "Answer Here.\n",
        "\n",
        "I picked this chart to visualize the distribution of app installs across different categories. Using a count plot with the x-axis representing the number of installs and the data sourced from the DataFrame df, you can quickly grasp the frequency of installs within each category. The rotation=90 argument for plt.xticks() ensures that the category labels on the x-axis are displayed vertically for better readability, especially if there are many categories. Overall, this chart provides an overview of the popularity of apps based on their installation counts, helping to identify trends and preferences among users."
      ],
      "metadata": {
        "id": "5dBItgRVYoAp"
      }
    },
    {
      "cell_type": "markdown",
      "source": [
        "##### 2. What is/are the insight(s) found from the chart?"
      ],
      "metadata": {
        "id": "85gYPyotYoAp"
      }
    },
    {
      "cell_type": "markdown",
      "source": [
        "Answer Here\n",
        "\n",
        "From the count plot of app installs across different categories:\n",
        "\n",
        "Popular Categories: You can identify which categories have the highest number of app installs, indicating their popularity among users.\n",
        "\n",
        "Distribution: You can observe the distribution of installs across different categories, understanding which categories have a higher or lower number of installs.\n",
        "\n",
        "Market Trends: By analyzing the distribution pattern, you can identify market trends and user preferences. For instance, if certain categories consistently have higher install counts, it may indicate a growing demand for apps in those categories.\n",
        "\n",
        "Competitive Analysis: You can compare the number of installs in different categories to assess competition levels. Categories with higher installs may have more competition, while those with lower installs may present opportunities for growth.\n",
        "\n",
        "Strategic Decisions: These insights can inform strategic decisions regarding resource allocation, marketing efforts, and app development priorities. For example, investing more resources in categories with high demand can lead to increased user engagement and revenue generation. Conversely, categories with lower installs may require targeted marketing campaigns or product improvements to boost performance.\n",
        "\n",
        "\n",
        "\n",
        "\n",
        "\n"
      ],
      "metadata": {
        "id": "4jstXR6OYoAp"
      }
    },
    {
      "cell_type": "markdown",
      "source": [
        "##### 3. Will the gained insights help creating a positive business impact?\n",
        "Are there any insights that lead to negative growth? Justify with specific reason."
      ],
      "metadata": {
        "id": "RoGjAbkUYoAp"
      }
    },
    {
      "cell_type": "markdown",
      "source": [
        "Answer Here\n",
        "\n",
        "The insights gained from the count plot of app installs can indeed help create a positive business impact:\n",
        "\n",
        "Identifying Growth Opportunities: By pinpointing categories with high install counts, businesses can focus their efforts on developing or enhancing apps in these categories, potentially leading to increased user engagement and revenue generation.\n",
        "\n",
        "Optimizing Marketing Strategies: Understanding which categories attract more users allows businesses to tailor their marketing strategies to target those specific demographics more effectively. This can lead to improved user acquisition and retention rates.\n",
        "\n",
        "Resource Allocation: Insights from the plot can guide resource allocation decisions, such as investing in research and development for popular categories or reallocating resources from underperforming categories to those with higher growth potential.\n",
        "\n",
        "Competitive Advantage: Businesses can gain a competitive advantage by leveraging insights to differentiate their offerings in popular categories, optimizing features and user experience to better meet consumer needs and preferences.\n",
        "\n",
        "Regarding insights that may lead to negative growth:\n",
        "\n",
        "Underperforming Categories: Categories with consistently low install counts may indicate a lack of demand or intense competition, making it challenging for new entrants or existing apps to gain traction. Investing resources in these categories without a thorough understanding of market dynamics could lead to negative growth.\n",
        "\n",
        "Misaligned Strategies: If businesses misinterpret the insights or fail to adapt their strategies accordingly, they may allocate resources inefficiently, resulting in wasted investments and stagnant or declining performance.\n",
        "\n",
        "Failure to Address User Needs: Focusing solely on categories with high install counts without considering user needs and preferences may lead to subpar app experiences, resulting in negative reviews, decreased user engagement, and ultimately, decreased installs over time.\n",
        "\n",
        "In summary, while the insights gleaned from the count plot can certainly contribute to positive business outcomes, businesses must carefully analyze and interpret the data to make informed decisions and avoid potential pitfalls that could lead to negative growth.\n",
        "\n",
        "\n",
        "\n",
        "\n",
        "\n"
      ],
      "metadata": {
        "id": "zfJ8IqMcYoAp"
      }
    },
    {
      "cell_type": "markdown",
      "source": [
        "#### Chart - 4"
      ],
      "metadata": {
        "id": "4Of9eVA-YrdM"
      }
    },
    {
      "cell_type": "code",
      "source": [
        "# Chart - 4 visualization code\n",
        "plt.figure(figsize =(14,6))\n",
        "sns.countplot(x='Type', data=df)"
      ],
      "metadata": {
        "id": "irlUoxc8YrdO"
      },
      "execution_count": null,
      "outputs": []
    },
    {
      "cell_type": "markdown",
      "source": [
        "##### 1. Why did you pick the specific chart?"
      ],
      "metadata": {
        "id": "iky9q4vBYrdO"
      }
    },
    {
      "cell_type": "markdown",
      "source": [
        "Answer Here.The choice of a count plot for the \"Type\" variable in the dataset can provide several insights that are valuable for understanding the distribution of app types within the dataset:\n",
        "\n",
        "Understanding Distribution: The count plot allows us to visualize the distribution of different types of apps (e.g., Free vs. Paid) in the dataset. This helps in understanding the proportion of each type relative to the total number of apps.\n",
        "\n",
        "Market Segmentation: By analyzing the count of each type of app, businesses can gain insights into market segmentation trends. For example, they can understand the popularity of free apps compared to paid apps and tailor their strategies accordingly.\n",
        "\n",
        "Monetization Strategy: For developers or businesses considering app development, this plot can provide insights into the prevalent monetization strategies in the market. Understanding the distribution of free and paid apps can help in making informed decisions about pricing models.\n",
        "\n",
        "Competitive Analysis: By examining the count of different app types, businesses can conduct competitive analysis within their industry. They can assess the market landscape, identify key players, and understand their positioning based on the type of apps they offer.\n",
        "\n",
        "User Preferences: Insights from the count plot can also shed light on user preferences. For example, if free apps significantly outnumber paid apps, it may indicate a strong preference among users for free content or a reluctance to pay for apps.\n",
        "\n",
        "Overall, the count plot provides a clear and concise visualization of the distribution of app types, enabling businesses to derive actionable insights that can inform their strategic decisions related to app development, marketing, and monetization."
      ],
      "metadata": {
        "id": "aJRCwT6DYrdO"
      }
    },
    {
      "cell_type": "markdown",
      "source": [
        "##### 2. What is/are the insight(s) found from the chart?"
      ],
      "metadata": {
        "id": "F6T5p64dYrdO"
      }
    },
    {
      "cell_type": "markdown",
      "source": [
        "Answer Here\n",
        "\n",
        "The insights gleaned from the count plot of the \"Type\" variable could include:\n",
        "\n",
        "Prevalence of Free Apps: The plot may reveal that the majority of apps in the dataset are free. This suggests that the app market is highly competitive, with many developers opting for a freemium or ad-supported model to attract users.\n",
        "\n",
        "Variety of Paid Apps: While free apps dominate, there might still be a substantial number of paid apps in the dataset. This indicates that developers are leveraging different monetization strategies, targeting specific niches, or offering premium features for a fee.\n",
        "\n",
        "Market Dynamics: Understanding the distribution of free and paid apps provides insights into market dynamics. For instance, if the number of paid apps is significantly lower compared to free apps, it could imply challenges in monetizing apps through upfront payments.\n",
        "\n",
        "Monetization Potential: Businesses can assess the monetization potential of their apps based on the ratio of free to paid apps. A higher proportion of paid apps might suggest a market where users are more willing to pay for premium content or features.\n",
        "\n",
        "Competitive Landscape: Analyzing the distribution of app types can help identify competitors' strategies. If certain categories have a higher concentration of paid apps, it may indicate opportunities for differentiation or gaps in the market that businesses can exploit.\n",
        "\n",
        "User Behavior: The prevalence of free apps may reflect user preferences for cost-free options or reluctance to pay for apps. This insight can inform pricing strategies and the design of monetization models to align with user behavior.\n",
        "\n",
        "Overall, the count plot offers insights into the composition of the app market, the preferences of developers and users, and the potential for monetization, which can guide strategic decisions in app development, marketing, and revenue generation."
      ],
      "metadata": {
        "id": "Xx8WAJvtYrdO"
      }
    },
    {
      "cell_type": "markdown",
      "source": [
        "##### 3. Will the gained insights help creating a positive business impact?\n",
        "Are there any insights that lead to negative growth? Justify with specific reason."
      ],
      "metadata": {
        "id": "y-Ehk30pYrdP"
      }
    },
    {
      "cell_type": "markdown",
      "source": [
        "Answer Here\n",
        "\n",
        "The insights gained from the count plot of app types can indeed help create a positive business impact by providing valuable information for strategic decision-making. However, there might be potential insights that could raise concerns or indicate areas of negative growth:\n",
        "\n",
        "Limited Monetization Opportunities: If the count plot reveals a disproportionately low number of paid apps compared to free apps, it could signal challenges in monetizing apps through upfront payments. This imbalance may limit revenue potential and profitability, especially if the market primarily relies on free offerings.\n",
        "\n",
        "Competitive Pressures: A high concentration of free apps in certain categories might indicate intense competition, making it challenging for paid apps to stand out or gain traction. This competitive pressure could lead to reduced profitability and market saturation, negatively impacting growth prospects for developers relying on paid models.\n",
        "\n",
        "Value Perception: If the majority of apps in lucrative categories are offered for free, it may influence users' perceptions of value and willingness to pay for premium features or content. This dynamic could erode the perceived value of paid apps and hinder efforts to monetize through app purchases or subscriptions.\n",
        "\n",
        "Monetization Strategy Effectiveness: Disproportionate adoption of one type of monetization strategy (e.g., primarily free apps with in-app purchases or advertisements) may indicate over-reliance on a single revenue stream. This lack of diversification could pose risks if market conditions change or if users become resistant to certain monetization methods.\n",
        "\n",
        "Market Fragmentation: A wide variation in the distribution of app types across categories could lead to market fragmentation, making it difficult for developers to target specific user segments effectively. Fragmentation may result in diluted market share, reduced brand visibility, and challenges in achieving economies of scale.\n",
        "\n",
        "To address these potential challenges and leverage the insights gained, businesses may need to adapt their app monetization strategies, differentiate their offerings, and explore alternative revenue streams such as partnerships, subscriptions, or value-added services. Additionally, focusing on user engagement, retention, and providing unique value propositions can help mitigate the negative impacts of market dynamics and foster sustainable growth in the competitive app ecosystem.\n",
        "\n",
        "\n",
        "\n",
        "\n",
        "\n"
      ],
      "metadata": {
        "id": "jLNxxz7MYrdP"
      }
    },
    {
      "cell_type": "markdown",
      "source": [
        "#### Chart - 5"
      ],
      "metadata": {
        "id": "bamQiAODYuh1"
      }
    },
    {
      "cell_type": "code",
      "source": [
        "# Chart - 5 visualization code\n",
        "plt.figure(figsize =(14,6))\n",
        "sns.scatterplot(y='Rating', x='Price', data= df, hue='Type')"
      ],
      "metadata": {
        "id": "TIJwrbroYuh3"
      },
      "execution_count": null,
      "outputs": []
    },
    {
      "cell_type": "markdown",
      "source": [
        "##### 1. Why did you pick the specific chart?"
      ],
      "metadata": {
        "id": "QHF8YVU7Yuh3"
      }
    },
    {
      "cell_type": "markdown",
      "source": [
        "Answer Here.\n",
        "The scatter plot comparing app ratings to their prices, differentiated by app type (free or paid), is chosen for several reasons:\n",
        "\n",
        "Price Sensitivity Analysis: This chart allows for an examination of the relationship between app prices and user ratings. Understanding how pricing affects user perceptions of value and satisfaction is crucial for optimizing pricing strategies and maximizing revenue.\n",
        "\n",
        "Comparison Across Types: By including both free and paid apps in the analysis, the chart enables a comparison of how pricing impacts user ratings differently for each type. This comparison can reveal insights into the effectiveness of different monetization models and their implications for user satisfaction.\n",
        "\n",
        "Identifying Pricing Sweet Spots: Patterns in the scatter plot may highlight price points that correspond to higher user ratings, indicating potential pricing \"sweet spots\" where apps strike a balance between affordability and perceived value. Identifying these sweet spots can inform pricing decisions and help maximize user satisfaction and profitability.\n",
        "\n",
        "Detection of Outliers: The scatter plot can help identify outliers, such as high-priced apps with low ratings or free apps with exceptionally high ratings. Investigating these outliers can uncover factors contributing to extreme user perceptions and guide adjustments in pricing, features, or marketing strategies.\n",
        "\n",
        "Type-Based Analysis: The use of hue to differentiate between free and paid apps allows for a visual comparison of rating-price relationships within each type. This distinction can reveal whether pricing has a consistent impact across app types or if there are nuanced differences in user expectations and behaviors between free and paid offerings.\n",
        "\n",
        "By analyzing the scatter plot, businesses can gain valuable insights into the relationship between pricing and user satisfaction, optimize their pricing strategies to maximize revenue and user satisfaction, and identify opportunities for product differentiation and competitive advantage in the app marketplace.\n",
        "\n",
        "\n",
        "\n",
        "\n",
        "\n"
      ],
      "metadata": {
        "id": "dcxuIMRPYuh3"
      }
    },
    {
      "cell_type": "markdown",
      "source": [
        "##### 2. What is/are the insight(s) found from the chart?"
      ],
      "metadata": {
        "id": "GwzvFGzlYuh3"
      }
    },
    {
      "cell_type": "markdown",
      "source": [
        "Answer Here\n",
        "\n",
        "From the scatter plot comparing app ratings to their prices, differentiated by app type (free or paid), several insights can be gleaned:\n",
        "\n",
        "Free Apps Predominate: There is a higher concentration of data points for free apps compared to paid apps, indicating that the majority of apps in the dataset are free to download.\n",
        "\n",
        "Distribution of Ratings: The scatter plot shows a wide distribution of ratings across both free and paid apps. While most apps have ratings clustered around the higher end of the scale (above 4.0), there are also significant numbers of apps with lower ratings.\n",
        "\n",
        "Price Range: Free apps are predominantly concentrated at price point zero, as expected, while paid apps exhibit more variability in pricing, ranging from very low to higher price points.\n",
        "\n",
        "Impact of Price on Ratings: Generally, there seems to be a trend where higher-priced apps (especially those priced above $20) tend to have lower ratings compared to lower-priced apps. However, there are exceptions, with some high-priced apps receiving relatively high ratings.\n",
        "\n",
        "Type-Based Analysis: There appears to be a difference in the distribution of ratings between free and paid apps. While free apps exhibit a broader range of ratings, paid apps tend to cluster more around higher ratings, especially in the mid-price range.\n",
        "\n",
        "Outliers: There are some outliers where apps, both free and paid, have exceptionally high or low ratings relative to their prices. These outliers may warrant further investigation to understand the factors influencing user perceptions and ratings.\n",
        "\n",
        "Overall, the scatter plot provides insights into the complex relationship between app prices and user ratings. It suggests that while pricing may influence user perceptions to some extent, other factors such as app quality, features, and user experience also play significant roles in determining user satisfaction and ratings.\n",
        "\n",
        "\n",
        "\n",
        "\n",
        "\n"
      ],
      "metadata": {
        "id": "uyqkiB8YYuh3"
      }
    },
    {
      "cell_type": "markdown",
      "source": [
        "##### 3. Will the gained insights help creating a positive business impact?\n",
        "Are there any insights that lead to negative growth? Justify with specific reason."
      ],
      "metadata": {
        "id": "qYpmQ266Yuh3"
      }
    },
    {
      "cell_type": "markdown",
      "source": [
        "Answer Here\n",
        "\n",
        "The insights gained from the scatter plot can indeed contribute to positive business impact by informing pricing strategies and product development decisions. Here's how:\n",
        "\n",
        "Optimizing Pricing Strategy: Understanding the relationship between app prices and user ratings can help businesses optimize their pricing strategies. For instance, they can adjust prices based on the observed trends to maximize revenue without compromising user satisfaction.\n",
        "\n",
        "Improving App Quality: Insights from the scatter plot can guide businesses in enhancing the quality of their apps. By analyzing the ratings of both free and paid apps, companies can identify areas for improvement and prioritize features that contribute to higher user satisfaction.\n",
        "\n",
        "Differentiating Paid Apps: For paid apps, maintaining a balance between pricing and perceived value is crucial. Businesses can use the insights to ensure that paid apps offer sufficient value to justify their prices, thereby increasing customer retention and positive reviews.\n",
        "\n",
        "However, there are also insights that could potentially lead to negative growth if not addressed:\n",
        "\n",
        "Risk of Negative Reviews for High-Priced Apps: The scatter plot indicates that some high-priced apps receive lower ratings. If left unaddressed, this trend could lead to negative reviews, reduced downloads, and ultimately, decreased revenue.\n",
        "\n",
        "Competitive Pricing Pressure: Businesses operating in highly competitive markets may face pressure to lower prices to remain competitive. While lowering prices may attract more users initially, it could impact profitability if not carefully managed.\n",
        "\n",
        "Overall, while the insights from the scatter plot offer valuable guidance for improving app performance and pricing strategies, it's essential for businesses to carefully balance pricing decisions with maintaining high-quality user experiences to ensure sustained positive growth.\n",
        "\n",
        "\n",
        "\n",
        "\n",
        "\n",
        "\n"
      ],
      "metadata": {
        "id": "_WtzZ_hCYuh4"
      }
    },
    {
      "cell_type": "markdown",
      "source": [
        "#### Chart - 6"
      ],
      "metadata": {
        "id": "OH-pJp9IphqM"
      }
    },
    {
      "cell_type": "code",
      "source": [
        "# Chart - 6 visualization code"
      ],
      "metadata": {
        "id": "kuRf4wtuphqN"
      },
      "execution_count": null,
      "outputs": []
    },
    {
      "cell_type": "markdown",
      "source": [
        "##### 1. Why did you pick the specific chart?"
      ],
      "metadata": {
        "id": "bbFf2-_FphqN"
      }
    },
    {
      "cell_type": "markdown",
      "source": [
        "Answer Here."
      ],
      "metadata": {
        "id": "loh7H2nzphqN"
      }
    },
    {
      "cell_type": "markdown",
      "source": [
        "##### 2. What is/are the insight(s) found from the chart?"
      ],
      "metadata": {
        "id": "_ouA3fa0phqN"
      }
    },
    {
      "cell_type": "markdown",
      "source": [
        "Answer Here"
      ],
      "metadata": {
        "id": "VECbqPI7phqN"
      }
    },
    {
      "cell_type": "markdown",
      "source": [
        "##### 3. Will the gained insights help creating a positive business impact?\n",
        "Are there any insights that lead to negative growth? Justify with specific reason."
      ],
      "metadata": {
        "id": "Seke61FWphqN"
      }
    },
    {
      "cell_type": "markdown",
      "source": [
        "Answer Here"
      ],
      "metadata": {
        "id": "DW4_bGpfphqN"
      }
    },
    {
      "cell_type": "markdown",
      "source": [
        "#### Chart - 7"
      ],
      "metadata": {
        "id": "PIIx-8_IphqN"
      }
    },
    {
      "cell_type": "code",
      "source": [
        "# Chart - 7 visualization code"
      ],
      "metadata": {
        "id": "lqAIGUfyphqO"
      },
      "execution_count": null,
      "outputs": []
    },
    {
      "cell_type": "markdown",
      "source": [
        "##### 1. Why did you pick the specific chart?"
      ],
      "metadata": {
        "id": "t27r6nlMphqO"
      }
    },
    {
      "cell_type": "markdown",
      "source": [
        "Answer Here."
      ],
      "metadata": {
        "id": "iv6ro40sphqO"
      }
    },
    {
      "cell_type": "markdown",
      "source": [
        "##### 2. What is/are the insight(s) found from the chart?"
      ],
      "metadata": {
        "id": "r2jJGEOYphqO"
      }
    },
    {
      "cell_type": "markdown",
      "source": [
        "Answer Here"
      ],
      "metadata": {
        "id": "Po6ZPi4hphqO"
      }
    },
    {
      "cell_type": "markdown",
      "source": [
        "##### 3. Will the gained insights help creating a positive business impact?\n",
        "Are there any insights that lead to negative growth? Justify with specific reason."
      ],
      "metadata": {
        "id": "b0JNsNcRphqO"
      }
    },
    {
      "cell_type": "markdown",
      "source": [
        "Answer Here"
      ],
      "metadata": {
        "id": "xvSq8iUTphqO"
      }
    },
    {
      "cell_type": "markdown",
      "source": [
        "#### Chart - 8"
      ],
      "metadata": {
        "id": "BZR9WyysphqO"
      }
    },
    {
      "cell_type": "code",
      "source": [
        "# Chart - 8 visualization code"
      ],
      "metadata": {
        "id": "TdPTWpAVphqO"
      },
      "execution_count": null,
      "outputs": []
    },
    {
      "cell_type": "markdown",
      "source": [
        "##### 1. Why did you pick the specific chart?"
      ],
      "metadata": {
        "id": "jj7wYXLtphqO"
      }
    },
    {
      "cell_type": "markdown",
      "source": [
        "Answer Here."
      ],
      "metadata": {
        "id": "Ob8u6rCTphqO"
      }
    },
    {
      "cell_type": "markdown",
      "source": [
        "##### 2. What is/are the insight(s) found from the chart?"
      ],
      "metadata": {
        "id": "eZrbJ2SmphqO"
      }
    },
    {
      "cell_type": "markdown",
      "source": [
        "Answer Here"
      ],
      "metadata": {
        "id": "mZtgC_hjphqO"
      }
    },
    {
      "cell_type": "markdown",
      "source": [
        "##### 3. Will the gained insights help creating a positive business impact?\n",
        "Are there any insights that lead to negative growth? Justify with specific reason."
      ],
      "metadata": {
        "id": "rFu4xreNphqO"
      }
    },
    {
      "cell_type": "markdown",
      "source": [
        "Answer Here"
      ],
      "metadata": {
        "id": "ey_0qi68phqO"
      }
    },
    {
      "cell_type": "markdown",
      "source": [
        "#### Chart - 9"
      ],
      "metadata": {
        "id": "YJ55k-q6phqO"
      }
    },
    {
      "cell_type": "code",
      "source": [
        "# Chart - 9 visualization code"
      ],
      "metadata": {
        "id": "B2aS4O1ophqO"
      },
      "execution_count": null,
      "outputs": []
    },
    {
      "cell_type": "markdown",
      "source": [
        "##### 1. Why did you pick the specific chart?"
      ],
      "metadata": {
        "id": "gCFgpxoyphqP"
      }
    },
    {
      "cell_type": "markdown",
      "source": [
        "Answer Here."
      ],
      "metadata": {
        "id": "TVxDimi2phqP"
      }
    },
    {
      "cell_type": "markdown",
      "source": [
        "##### 2. What is/are the insight(s) found from the chart?"
      ],
      "metadata": {
        "id": "OVtJsKN_phqQ"
      }
    },
    {
      "cell_type": "markdown",
      "source": [
        "Answer Here"
      ],
      "metadata": {
        "id": "ngGi97qjphqQ"
      }
    },
    {
      "cell_type": "markdown",
      "source": [
        "##### 3. Will the gained insights help creating a positive business impact?\n",
        "Are there any insights that lead to negative growth? Justify with specific reason."
      ],
      "metadata": {
        "id": "lssrdh5qphqQ"
      }
    },
    {
      "cell_type": "markdown",
      "source": [
        "Answer Here"
      ],
      "metadata": {
        "id": "tBpY5ekJphqQ"
      }
    },
    {
      "cell_type": "markdown",
      "source": [
        "#### Chart - 10"
      ],
      "metadata": {
        "id": "U2RJ9gkRphqQ"
      }
    },
    {
      "cell_type": "code",
      "source": [
        "# Chart - 10 visualization code"
      ],
      "metadata": {
        "id": "GM7a4YP4phqQ"
      },
      "execution_count": null,
      "outputs": []
    },
    {
      "cell_type": "markdown",
      "source": [
        "##### 1. Why did you pick the specific chart?"
      ],
      "metadata": {
        "id": "1M8mcRywphqQ"
      }
    },
    {
      "cell_type": "markdown",
      "source": [
        "Answer Here."
      ],
      "metadata": {
        "id": "8agQvks0phqQ"
      }
    },
    {
      "cell_type": "markdown",
      "source": [
        "##### 2. What is/are the insight(s) found from the chart?"
      ],
      "metadata": {
        "id": "tgIPom80phqQ"
      }
    },
    {
      "cell_type": "markdown",
      "source": [
        "Answer Here"
      ],
      "metadata": {
        "id": "Qp13pnNzphqQ"
      }
    },
    {
      "cell_type": "markdown",
      "source": [
        "##### 3. Will the gained insights help creating a positive business impact?\n",
        "Are there any insights that lead to negative growth? Justify with specific reason."
      ],
      "metadata": {
        "id": "JMzcOPDDphqR"
      }
    },
    {
      "cell_type": "markdown",
      "source": [
        "Answer Here"
      ],
      "metadata": {
        "id": "R4Ka1PC2phqR"
      }
    },
    {
      "cell_type": "markdown",
      "source": [
        "#### Chart - 11"
      ],
      "metadata": {
        "id": "x-EpHcCOp1ci"
      }
    },
    {
      "cell_type": "code",
      "source": [
        "# Chart - 11 visualization code"
      ],
      "metadata": {
        "id": "mAQTIvtqp1cj"
      },
      "execution_count": null,
      "outputs": []
    },
    {
      "cell_type": "markdown",
      "source": [
        "##### 1. Why did you pick the specific chart?"
      ],
      "metadata": {
        "id": "X_VqEhTip1ck"
      }
    },
    {
      "cell_type": "markdown",
      "source": [
        "Answer Here."
      ],
      "metadata": {
        "id": "-vsMzt_np1ck"
      }
    },
    {
      "cell_type": "markdown",
      "source": [
        "##### 2. What is/are the insight(s) found from the chart?"
      ],
      "metadata": {
        "id": "8zGJKyg5p1ck"
      }
    },
    {
      "cell_type": "markdown",
      "source": [
        "Answer Here"
      ],
      "metadata": {
        "id": "ZYdMsrqVp1ck"
      }
    },
    {
      "cell_type": "markdown",
      "source": [
        "##### 3. Will the gained insights help creating a positive business impact?\n",
        "Are there any insights that lead to negative growth? Justify with specific reason."
      ],
      "metadata": {
        "id": "PVzmfK_Ep1ck"
      }
    },
    {
      "cell_type": "markdown",
      "source": [
        "Answer Here"
      ],
      "metadata": {
        "id": "druuKYZpp1ck"
      }
    },
    {
      "cell_type": "markdown",
      "source": [
        "#### Chart - 12"
      ],
      "metadata": {
        "id": "n3dbpmDWp1ck"
      }
    },
    {
      "cell_type": "code",
      "source": [
        "# Chart - 12 visualization code"
      ],
      "metadata": {
        "id": "bwevp1tKp1ck"
      },
      "execution_count": null,
      "outputs": []
    },
    {
      "cell_type": "markdown",
      "source": [
        "##### 1. Why did you pick the specific chart?"
      ],
      "metadata": {
        "id": "ylSl6qgtp1ck"
      }
    },
    {
      "cell_type": "markdown",
      "source": [
        "Answer Here."
      ],
      "metadata": {
        "id": "m2xqNkiQp1ck"
      }
    },
    {
      "cell_type": "markdown",
      "source": [
        "##### 2. What is/are the insight(s) found from the chart?"
      ],
      "metadata": {
        "id": "ZWILFDl5p1ck"
      }
    },
    {
      "cell_type": "markdown",
      "source": [
        "Answer Here"
      ],
      "metadata": {
        "id": "x-lUsV2mp1ck"
      }
    },
    {
      "cell_type": "markdown",
      "source": [
        "##### 3. Will the gained insights help creating a positive business impact?\n",
        "Are there any insights that lead to negative growth? Justify with specific reason."
      ],
      "metadata": {
        "id": "M7G43BXep1ck"
      }
    },
    {
      "cell_type": "markdown",
      "source": [
        "Answer Here"
      ],
      "metadata": {
        "id": "5wwDJXsLp1cl"
      }
    },
    {
      "cell_type": "markdown",
      "source": [
        "#### Chart - 13"
      ],
      "metadata": {
        "id": "Ag9LCva-p1cl"
      }
    },
    {
      "cell_type": "code",
      "source": [
        "# Chart - 13 visualization code"
      ],
      "metadata": {
        "id": "EUfxeq9-p1cl"
      },
      "execution_count": null,
      "outputs": []
    },
    {
      "cell_type": "markdown",
      "source": [
        "##### 1. Why did you pick the specific chart?"
      ],
      "metadata": {
        "id": "E6MkPsBcp1cl"
      }
    },
    {
      "cell_type": "markdown",
      "source": [
        "Answer Here."
      ],
      "metadata": {
        "id": "V22bRsFWp1cl"
      }
    },
    {
      "cell_type": "markdown",
      "source": [
        "##### 2. What is/are the insight(s) found from the chart?"
      ],
      "metadata": {
        "id": "2cELzS2fp1cl"
      }
    },
    {
      "cell_type": "markdown",
      "source": [
        "Answer Here"
      ],
      "metadata": {
        "id": "ozQPc2_Ip1cl"
      }
    },
    {
      "cell_type": "markdown",
      "source": [
        "##### 3. Will the gained insights help creating a positive business impact?\n",
        "Are there any insights that lead to negative growth? Justify with specific reason."
      ],
      "metadata": {
        "id": "3MPXvC8up1cl"
      }
    },
    {
      "cell_type": "markdown",
      "source": [
        "Answer Here"
      ],
      "metadata": {
        "id": "GL8l1tdLp1cl"
      }
    },
    {
      "cell_type": "markdown",
      "source": [
        "#### Chart - 14 - Correlation Heatmap"
      ],
      "metadata": {
        "id": "NC_X3p0fY2L0"
      }
    },
    {
      "cell_type": "code",
      "source": [
        "# Correlation Heatmap visualization code"
      ],
      "metadata": {
        "id": "xyC9zolEZNRQ"
      },
      "execution_count": null,
      "outputs": []
    },
    {
      "cell_type": "markdown",
      "source": [
        "##### 1. Why did you pick the specific chart?"
      ],
      "metadata": {
        "id": "UV0SzAkaZNRQ"
      }
    },
    {
      "cell_type": "markdown",
      "source": [
        "Answer Here."
      ],
      "metadata": {
        "id": "DVPuT8LYZNRQ"
      }
    },
    {
      "cell_type": "markdown",
      "source": [
        "##### 2. What is/are the insight(s) found from the chart?"
      ],
      "metadata": {
        "id": "YPEH6qLeZNRQ"
      }
    },
    {
      "cell_type": "markdown",
      "source": [
        "Answer Here"
      ],
      "metadata": {
        "id": "bfSqtnDqZNRR"
      }
    },
    {
      "cell_type": "markdown",
      "source": [
        "#### Chart - 15 - Pair Plot"
      ],
      "metadata": {
        "id": "q29F0dvdveiT"
      }
    },
    {
      "cell_type": "code",
      "source": [
        "# Pair Plot visualization code"
      ],
      "metadata": {
        "id": "o58-TEIhveiU"
      },
      "execution_count": null,
      "outputs": []
    },
    {
      "cell_type": "markdown",
      "source": [
        "##### 1. Why did you pick the specific chart?"
      ],
      "metadata": {
        "id": "EXh0U9oCveiU"
      }
    },
    {
      "cell_type": "markdown",
      "source": [
        "Answer Here."
      ],
      "metadata": {
        "id": "eMmPjTByveiU"
      }
    },
    {
      "cell_type": "markdown",
      "source": [
        "##### 2. What is/are the insight(s) found from the chart?"
      ],
      "metadata": {
        "id": "22aHeOlLveiV"
      }
    },
    {
      "cell_type": "markdown",
      "source": [
        "Answer Here"
      ],
      "metadata": {
        "id": "uPQ8RGwHveiV"
      }
    },
    {
      "cell_type": "markdown",
      "source": [
        "## **5. Solution to Business Objective**"
      ],
      "metadata": {
        "id": "JcMwzZxoAimU"
      }
    },
    {
      "cell_type": "markdown",
      "source": [
        "#### What do you suggest the client to achieve Business Objective ?\n",
        "Explain Briefly."
      ],
      "metadata": {
        "id": "8G2x9gOozGDZ"
      }
    },
    {
      "cell_type": "markdown",
      "source": [
        "Answer Here.\n",
        "To achieve the business objectives the client can take the following actions:\n",
        "\n",
        "Optimize App Offerings: Utilize the insights gained from the analysis to optimize app offerings, including refining features, enhancing user experience, and ensuring alignment with user preferences and trends.\n",
        "\n",
        "Pricing Strategies: Tailor pricing strategies based on factors such as app category, size, and user ratings. Consider offering freemium models, tiered pricing options, or promotional discounts to attract and retain users.\n",
        "\n",
        "Marketing Campaigns: Develop targeted marketing campaigns informed by geographical trends and user preferences. Leverage data-driven strategies to reach the right audience with compelling messaging and offers.\n",
        "\n",
        "Continuous Monitoring: Implement systems for continuous monitoring and analysis of app trends, user behaviors, and competitor activities. Stay agile and responsive to market changes to maintain competitiveness and drive sustained growth.\n",
        "\n",
        "User Engagement: Focus on enhancing user engagement and satisfaction through regular updates, feature enhancements, and personalized experiences. Encourage user feedback and iterate based on user preferences and pain points.\n",
        "\n",
        "Partnerships and Collaborations: Explore partnerships and collaborations with relevant stakeholders such as influencers, content creators, and other app developers to expand reach and drive user acquisition.\n",
        "\n",
        "Data-Driven Decision Making: Foster a culture of data-driven decision-making within the organization. Invest in analytics tools and resources to empower stakeholders with actionable insights for informed decision-making at all levels.\n",
        "\n",
        "Customer Support and Feedback: Prioritize customer support and feedback mechanisms to address user concerns promptly and proactively. Use feedback loops to identify areas for improvement and iterate on app offerings accordingly.\n",
        "\n",
        "By implementing these strategies and leveraging the insights derived from the analysis, the client can effectively optimize their app offerings, drive user engagement and satisfaction, and maximize success on the Google Play Store platform.\n",
        "\n",
        "\n",
        "\n",
        "\n",
        "\n"
      ],
      "metadata": {
        "id": "pASKb0qOza21"
      }
    },
    {
      "cell_type": "markdown",
      "source": [
        "# **Conclusion**"
      ],
      "metadata": {
        "id": "gCX9965dhzqZ"
      }
    },
    {
      "cell_type": "markdown",
      "source": [
        "Write the conclusion here.\n",
        "\n",
        "In conclusion, the analysis of the Google Play Store dataset has provided valuable insights into app trends, user preferences, and factors influencing app ratings and downloads. Through exploratory data analysis (EDA), we identified correlations between various app attributes such as category, size, price, and rating, shedding light on their impact on user engagement and satisfaction. Additionally, geographical trends in app usage and popularity across different regions were explored, offering valuable information for developers and marketers.\n",
        "\n",
        "These insights are instrumental in guiding app developers and marketers in making informed decisions about app development, pricing strategies, and marketing campaigns. By leveraging these findings, stakeholders can optimize their app offerings to better meet user needs and preferences, ultimately maximizing their success on the Google Play Store platform.\n",
        "\n",
        "Moving forward, continuous monitoring and analysis of app trends and user behaviors will be essential to adapt to evolving market dynamics and maintain competitiveness in the rapidly evolving app ecosystem. Through ongoing data-driven strategies, stakeholders can continue to innovate and enhance their app offerings to drive sustained growth and success in the dynamic landscape of the Google Play Store."
      ],
      "metadata": {
        "id": "Fjb1IsQkh3yE"
      }
    },
    {
      "cell_type": "markdown",
      "source": [
        "### ***Hurrah! You have successfully completed your EDA Capstone Project !!!***"
      ],
      "metadata": {
        "id": "gIfDvo9L0UH2"
      }
    }
  ]
}