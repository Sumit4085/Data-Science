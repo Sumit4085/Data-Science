{
  "nbformat": 4,
  "nbformat_minor": 0,
  "metadata": {
    "colab": {
      "private_outputs": true,
      "provenance": [],
      "collapsed_sections": [
        "vncDsAP0Gaoa",
        "FJNUwmbgGyua",
        "w6K7xa23Elo4",
        "yQaldy8SH6Dl",
        "PH-0ReGfmX4f",
        "mDgbUHAGgjLW",
        "Y3lxredqlCYt",
        "x71ZqKXriCWQ",
        "7hBIi_osiCS2",
        "35m5QtbWiB9F",
        "PoPl-ycgm1ru",
        "H0kj-8xxnORC",
        "nA9Y7ga8ng1Z",
        "PBTbrJXOngz2",
        "u3PMJOP6ngxN",
        "bKJF3rekwFvQ",
        "AH8gULlJ3AF0",
        "Tem-bZEq4YG_",
        "1dH-b0Zw44rt",
        "JySNwgyj5SJt",
        "weY9A_OP5j0d",
        "GdEKjC1l5z4U",
        "0SyxM_ON6EGg",
        "r3cf8CDE6LlQ",
        "CF__h4vv6_SK",
        "AR6XU2ep7Mbt",
        "Bf3Ol3f67TfS",
        "JTRHbxyi9KJY",
        "TM0tyed7P5xx",
        "hOqM9KnfS2zL",
        "YyKzyOzSUJRE",
        "K5QZ13OEpz2H",
        "lQ7QKXXCp7Bj",
        "448CDAPjqfQr",
        "t6dVpIINYklI",
        "ijmpgYnKYklI",
        "fge-S5ZAYoAp",
        "85gYPyotYoAp",
        "RoGjAbkUYoAp",
        "4Of9eVA-YrdM",
        "iky9q4vBYrdO",
        "F6T5p64dYrdO",
        "y-Ehk30pYrdP",
        "bamQiAODYuh1",
        "QHF8YVU7Yuh3",
        "GwzvFGzlYuh3",
        "qYpmQ266Yuh3",
        "OH-pJp9IphqM",
        "bbFf2-_FphqN",
        "_ouA3fa0phqN",
        "Seke61FWphqN",
        "PIIx-8_IphqN",
        "t27r6nlMphqO",
        "r2jJGEOYphqO",
        "b0JNsNcRphqO",
        "BZR9WyysphqO",
        "jj7wYXLtphqO",
        "eZrbJ2SmphqO",
        "rFu4xreNphqO",
        "YJ55k-q6phqO",
        "gCFgpxoyphqP",
        "OVtJsKN_phqQ",
        "lssrdh5qphqQ",
        "U2RJ9gkRphqQ",
        "1M8mcRywphqQ",
        "tgIPom80phqQ",
        "JMzcOPDDphqR",
        "x-EpHcCOp1ci",
        "X_VqEhTip1ck",
        "8zGJKyg5p1ck",
        "PVzmfK_Ep1ck",
        "n3dbpmDWp1ck",
        "ylSl6qgtp1ck",
        "ZWILFDl5p1ck",
        "M7G43BXep1ck",
        "Ag9LCva-p1cl",
        "E6MkPsBcp1cl",
        "2cELzS2fp1cl",
        "3MPXvC8up1cl",
        "NC_X3p0fY2L0",
        "UV0SzAkaZNRQ",
        "YPEH6qLeZNRQ",
        "q29F0dvdveiT",
        "EXh0U9oCveiU",
        "22aHeOlLveiV",
        "JcMwzZxoAimU",
        "8G2x9gOozGDZ",
        "gCX9965dhzqZ",
        "gIfDvo9L0UH2"
      ],
      "include_colab_link": true
    },
    "kernelspec": {
      "name": "python3",
      "display_name": "Python 3"
    },
    "language_info": {
      "name": "python"
    }
  },
  "cells": [
    {
      "cell_type": "markdown",
      "metadata": {
        "id": "view-in-github",
        "colab_type": "text"
      },
      "source": [
        "<a href=\"https://colab.research.google.com/github/Sumit4085/Data-Science/blob/main/Google_Play_Store_EDA_Project.ipynb\" target=\"_parent\"><img src=\"https://colab.research.google.com/assets/colab-badge.svg\" alt=\"Open In Colab\"/></a>"
      ]
    },
    {
      "cell_type": "markdown",
      "source": [
        "# **Project Name**    -\n",
        "\n"
      ],
      "metadata": {
        "id": "vncDsAP0Gaoa"
      }
    },
    {
      "cell_type": "markdown",
      "source": [
        "##### **Project Type**    - EDA\n",
        "##### **Contribution**    - Individual\n",
        "\n"
      ],
      "metadata": {
        "id": "beRrZCGUAJYm"
      }
    },
    {
      "cell_type": "markdown",
      "source": [
        "# **Project Summary -**"
      ],
      "metadata": {
        "id": "FJNUwmbgGyua"
      }
    },
    {
      "cell_type": "markdown",
      "source": [
        "The Google Play Store is a massive digital marketplace where users can download a wide variety of applications for their smartphones and tablets. With millions of apps available, understanding the trends and preferences of both users and developers is crucial for optimizing the app ecosystem. Exploratory Data Analysis (EDA) offers a powerful approach to uncover insights and patterns within the vast dataset of the Google Play Store.\n",
        "\n",
        "The Google Play Store EDA project aims to explore and analyze the extensive dataset of app listings available on the platform. By conducting thorough analysis, we seek to address several key questions and challenges:\n",
        "\n",
        "1. App Categories and Popularity:\n",
        "   - What are the most popular app categories on the Google Play Store?\n",
        "   - How does the popularity of different categories vary?\n",
        "   - specific categories that dominate the market?\n",
        "\n",
        "2. App Ratings and Reviews:\n",
        "   - How do user ratings affect the popularity and success of an app?\n",
        "   - Are there correlations between the number of reviews and app ratings?\n",
        "   \n",
        "\n",
        "3. Pricing Strategies and Revenue:\n",
        "   - How do pricing strategies influence app downloads and revenue generation?\n",
        "   - Are paid apps more successful than free apps, or vice versa?\n",
        "   - What are the most common price ranges for apps across different categories?\n",
        "\n",
        "4. User Demographics and Preferences:\n",
        "   - Who are the primary users of the Google Play Store?\n",
        "   - What are the demographics of users who download specific types of apps?\n",
        "   - Are there regional or cultural differences in app preferences?\n",
        "\n",
        "5. App Size and Performance:\n",
        "   - How does app size impact user downloads and retention?\n",
        "   - Are users more likely to download smaller apps over larger ones?\n",
        "   - Is there a correlation between app size and user ratings/performance?\n",
        "\n",
        "6. Developer Trends and Behavior:\n",
        "   - What are the characteristics of successful app developers on the Google Play Store?\n",
        "   - How do factors such as app updates, developer reputation, and engagement influence app success?\n",
        "   - Are there patterns in the behavior of developers regarding app pricing, updates, and user feedback?\n",
        "\n",
        "Approach:\n",
        "To address these questions and challenges, we will perform exploratory data analysis on a comprehensive dataset extracted from the Google Play Store. This analysis will involve data cleaning, visualization, and statistical techniques to uncover meaningful insights. We will utilize Python programming language along with libraries such as Pandas, Matplotlib, and Seaborn for data manipulation and visualization. Additionally, we will employ descriptive and inferential statistical methods to derive conclusions and make recommendations based on the findings.\n",
        "\n",
        "Expected Outcome:\n",
        "Through this EDA project, we aim to provide valuable insights into the dynamics of the Google Play Store ecosystem. By understanding app trends, user preferences, and developer behavior, stakeholders such as app developers, marketers, and platform administrators can make informed decisions to optimize their strategies and enhance the overall user experience on the Google Play Store."
      ],
      "metadata": {
        "id": "F6v_1wHtG2nS"
      }
    },
    {
      "cell_type": "markdown",
      "source": [
        "# **GitHub Link -**"
      ],
      "metadata": {
        "id": "w6K7xa23Elo4"
      }
    },
    {
      "cell_type": "markdown",
      "source": [
        "Provide your GitHub Link here.https://github.com/Sumit4085/Data-Science-Projects.git"
      ],
      "metadata": {
        "id": "h1o69JH3Eqqn"
      }
    },
    {
      "cell_type": "markdown",
      "source": [
        "# **Problem Statement**\n"
      ],
      "metadata": {
        "id": "yQaldy8SH6Dl"
      }
    },
    {
      "cell_type": "markdown",
      "source": [
        "**Write Problem Statement Here.**\n",
        "\n",
        "Problem Statement:\n",
        "Analyze the Google Play Store dataset to gain insights into app trends, user preferences, and factors influencing app ratings and downloads. The goal is to uncover patterns that can guide app developers and marketers in making informed decisions about app development, pricing strategies, and marketing campaigns. By conducting exploratory data analysis (EDA), we aim to identify correlations between various app attributes such as category, size, price, and rating, and understand their impact on user engagement and satisfaction. Additionally, we seek to explore geographical trends in app usage and popularity across different regions. Ultimately, the insights derived from this analysis will enable stakeholders to optimize their app offerings and maximize their success on the Google Play Store platform."
      ],
      "metadata": {
        "id": "DpeJGUA3kjGy"
      }
    },
    {
      "cell_type": "markdown",
      "source": [
        "#### **Define Your Business Objective?**"
      ],
      "metadata": {
        "id": "PH-0ReGfmX4f"
      }
    },
    {
      "cell_type": "markdown",
      "source": [
        "Answer Here."
      ],
      "metadata": {
        "id": "PhDvGCAqmjP1"
      }
    },
    {
      "cell_type": "markdown",
      "source": [
        "# **General Guidelines** : -  "
      ],
      "metadata": {
        "id": "mDgbUHAGgjLW"
      }
    },
    {
      "cell_type": "markdown",
      "source": [
        "1.   Well-structured, formatted, and commented code is required.\n",
        "2.   Exception Handling, Production Grade Code & Deployment Ready Code will be a plus. Those students will be awarded some additional credits.\n",
        "     \n",
        "     The additional credits will have advantages over other students during Star Student selection.\n",
        "       \n",
        "             [ Note: - Deployment Ready Code is defined as, the whole .ipynb notebook should be executable in one go\n",
        "                       without a single error logged. ]\n",
        "\n",
        "3.   Each and every logic should have proper comments.\n",
        "4. You may add as many number of charts you want. Make Sure for each and every chart the following format should be answered.\n",
        "        \n",
        "\n",
        "```\n",
        "# Chart visualization code\n",
        "```\n",
        "            \n",
        "\n",
        "*   Why did you pick the specific chart?\n",
        "*   What is/are the insight(s) found from the chart?\n",
        "* Will the gained insights help creating a positive business impact?\n",
        "Are there any insights that lead to negative growth? Justify with specific reason.\n",
        "\n",
        "5. You have to create at least 20 logical & meaningful charts having important insights.\n",
        "\n",
        "\n",
        "[ Hints : - Do the Vizualization in  a structured way while following \"UBM\" Rule.\n",
        "\n",
        "U - Univariate Analysis,\n",
        "\n",
        "B - Bivariate Analysis (Numerical - Categorical, Numerical - Numerical, Categorical - Categorical)\n",
        "\n",
        "M - Multivariate Analysis\n",
        " ]\n",
        "\n",
        "\n",
        "\n"
      ],
      "metadata": {
        "id": "ZrxVaUj-hHfC"
      }
    },
    {
      "cell_type": "markdown",
      "source": [
        "# ***Let's Begin !***"
      ],
      "metadata": {
        "id": "O_i_v8NEhb9l"
      }
    },
    {
      "cell_type": "markdown",
      "source": [
        "## ***1. Know Your Data***"
      ],
      "metadata": {
        "id": "HhfV-JJviCcP"
      }
    },
    {
      "cell_type": "markdown",
      "source": [
        "### Import Libraries"
      ],
      "metadata": {
        "id": "Y3lxredqlCYt"
      }
    },
    {
      "cell_type": "code",
      "source": [
        "# Importing all mandatory Libraries\n",
        "import pandas as pd # Numerical operations on arrays\n",
        "import numpy as np #  Data manipulation and analysis\n",
        "import matplotlib.pyplot as plt #  Data visualization\n",
        "%matplotlib inline\n",
        "import seaborn as sns # Statistical data visualization\n",
        "\n"
      ],
      "metadata": {
        "id": "M8Vqi-pPk-HR"
      },
      "execution_count": null,
      "outputs": []
    },
    {
      "cell_type": "markdown",
      "source": [
        "### Dataset Loading"
      ],
      "metadata": {
        "id": "3RnN4peoiCZX"
      }
    },
    {
      "cell_type": "code",
      "source": [
        "# importing drive from google drive\n",
        "from google.colab import drive\n",
        "drive.mount('/content/drive')"
      ],
      "metadata": {
        "id": "Toy3BjMsPB4d"
      },
      "execution_count": null,
      "outputs": []
    },
    {
      "cell_type": "code",
      "source": [
        "# uploading Dataset (play store)\n",
        "df = pd.read_csv('/content/drive/MyDrive/Play Store Data.csv')"
      ],
      "metadata": {
        "id": "4CkvbW_SlZ_R"
      },
      "execution_count": null,
      "outputs": []
    },
    {
      "cell_type": "code",
      "source": [
        "# uploading dataset (play store user review)\n",
        "df1 = pd.read_csv('/content/drive/MyDrive/User Reviews.csv')"
      ],
      "metadata": {
        "id": "urerqrjrVL3w"
      },
      "execution_count": null,
      "outputs": []
    },
    {
      "cell_type": "markdown",
      "source": [
        "### Dataset First View"
      ],
      "metadata": {
        "id": "x71ZqKXriCWQ"
      }
    },
    {
      "cell_type": "code",
      "source": [
        "# overview of top 5 data of df\n",
        "df.head()"
      ],
      "metadata": {
        "id": "LWNFOSvLl09H"
      },
      "execution_count": null,
      "outputs": []
    },
    {
      "cell_type": "code",
      "source": [
        "# overview of top 5 data of df1\n",
        "df1.head()"
      ],
      "metadata": {
        "id": "9tOSQ1ToU5kq"
      },
      "execution_count": null,
      "outputs": []
    },
    {
      "cell_type": "markdown",
      "source": [
        "### Dataset Rows & Columns count"
      ],
      "metadata": {
        "id": "7hBIi_osiCS2"
      }
    },
    {
      "cell_type": "code",
      "source": [
        "# getting Rows & Columns count of dataset dataset df\n",
        "df.shape"
      ],
      "metadata": {
        "id": "Kllu7SJgmLij"
      },
      "execution_count": null,
      "outputs": []
    },
    {
      "cell_type": "code",
      "source": [
        "# getting Rows & Columns count of dataset df1\n",
        "df1.shape"
      ],
      "metadata": {
        "id": "Pm3sjv7IW1jk"
      },
      "execution_count": null,
      "outputs": []
    },
    {
      "cell_type": "markdown",
      "source": [
        "### Dataset Information"
      ],
      "metadata": {
        "id": "JlHwYmJAmNHm"
      }
    },
    {
      "cell_type": "code",
      "source": [
        "# summary of data structure in detail(total rows nd columns, null ,dtypes) of dataset df\n",
        "df.info()"
      ],
      "metadata": {
        "id": "e9hRXRi6meOf"
      },
      "execution_count": null,
      "outputs": []
    },
    {
      "cell_type": "code",
      "source": [
        "# summary of data structure in detail(total rows nd columns, null ,dtypes) of dataset df1\n",
        "df1.info()"
      ],
      "metadata": {
        "id": "Elwpo2drXEC7"
      },
      "execution_count": null,
      "outputs": []
    },
    {
      "cell_type": "markdown",
      "source": [
        "#### Duplicate Values"
      ],
      "metadata": {
        "id": "35m5QtbWiB9F"
      }
    },
    {
      "cell_type": "code",
      "source": [
        "# finding duplicates in df\n",
        "df.duplicated().sum()"
      ],
      "metadata": {
        "id": "1sLdpKYkmox0"
      },
      "execution_count": null,
      "outputs": []
    },
    {
      "cell_type": "code",
      "source": [
        "# finding duplicates in df1\n",
        "df1.duplicated().sum()"
      ],
      "metadata": {
        "id": "1JjUnwkPXPhV"
      },
      "execution_count": null,
      "outputs": []
    },
    {
      "cell_type": "markdown",
      "source": [
        "#### Missing Values/Null Values"
      ],
      "metadata": {
        "id": "PoPl-ycgm1ru"
      }
    },
    {
      "cell_type": "code",
      "source": [
        "# finding null values in df\n",
        "df.isnull().sum()"
      ],
      "metadata": {
        "id": "GgHWkxvamxVg"
      },
      "execution_count": null,
      "outputs": []
    },
    {
      "cell_type": "code",
      "source": [
        "# finding null values in df1\n",
        "df1.isnull().sum()"
      ],
      "metadata": {
        "id": "ulLC7ozqXVgQ"
      },
      "execution_count": null,
      "outputs": []
    },
    {
      "cell_type": "code",
      "source": [
        "# Visualizing the missing values in df\n",
        "# Checking Null Value by plotting Heatmap\n",
        "sns.heatmap(df.isnull(), cbar=False )\n",
        "plt.title('Missing Values')\n",
        "plt.xlabel('Categories')\n",
        "plt.ylabel('No. of Rows')\n",
        "plt.show()"
      ],
      "metadata": {
        "id": "3q5wnI3om9sJ"
      },
      "execution_count": null,
      "outputs": []
    },
    {
      "cell_type": "code",
      "source": [
        "# Visualizing the missing values in df1\n",
        "# Checking Null Value by plotting Heatmap\n",
        "sns.heatmap(df1.isnull(), cbar=False )\n",
        "plt.title('Missing Values')\n",
        "plt.xlabel('Categories')\n",
        "plt.ylabel('No. of Rows')\n",
        "plt.show()"
      ],
      "metadata": {
        "id": "15o7JIXsZBgr"
      },
      "execution_count": null,
      "outputs": []
    },
    {
      "cell_type": "markdown",
      "source": [
        "### What did you know about your dataset?"
      ],
      "metadata": {
        "id": "H0kj-8xxnORC"
      }
    },
    {
      "cell_type": "markdown",
      "source": [
        "Answer Here"
      ],
      "metadata": {
        "id": "gfoNAAC-nUe_"
      }
    },
    {
      "cell_type": "markdown",
      "source": [
        "## ***2. Understanding Your Variables***"
      ],
      "metadata": {
        "id": "nA9Y7ga8ng1Z"
      }
    },
    {
      "cell_type": "code",
      "source": [
        "# Dataset df Columns\n",
        "df.columns"
      ],
      "metadata": {
        "id": "j7xfkqrt5Ag5"
      },
      "execution_count": null,
      "outputs": []
    },
    {
      "cell_type": "code",
      "source": [
        "# Dataset df1 Columns\n",
        "df1.columns"
      ],
      "metadata": {
        "id": "zxCUtC1LaCVr"
      },
      "execution_count": null,
      "outputs": []
    },
    {
      "cell_type": "code",
      "source": [
        "# Dataset df Describe\n",
        "df.describe(include = 'all')"
      ],
      "metadata": {
        "id": "DnOaZdaE5Q5t"
      },
      "execution_count": null,
      "outputs": []
    },
    {
      "cell_type": "code",
      "source": [
        "# Dataset df1 Describe\n",
        "df1.describe(include = 'all')"
      ],
      "metadata": {
        "id": "fuOX_1LXaVP6"
      },
      "execution_count": null,
      "outputs": []
    },
    {
      "cell_type": "markdown",
      "source": [
        "### Variables Description"
      ],
      "metadata": {
        "id": "PBTbrJXOngz2"
      }
    },
    {
      "cell_type": "markdown",
      "source": [
        "Here we have descripton for all column of both dataset(df and df1)\n",
        "\n",
        "- **App**: Name of the application.\n",
        "- **Category**: Category or genre of the application.\n",
        "- **Rating**: Average user rating of the application.\n",
        "- **Reviews**: Number of user reviews for the application.\n",
        "- **Size**: Size of the application in terms of storage space.\n",
        "- **Installs**: Number of times the application has been installed.\n",
        "- **Type**: Type of the application (e.g., Free or Paid).\n",
        "- **Price**: Price of the application (if it's a paid app).\n",
        "- **Content Rating**: Content rating of the application based on audience suitability.\n",
        "- **Genres**: Sub-genres or additional categorizations of the application.\n",
        "- **Last Updated**: Date when the application was last updated.\n",
        "- **Current Ver**: Current version of the application.\n",
        "- **Android Ver**: Minimum Android version required to run the application.re\n",
        "Certainly, here are the variable descriptions for each column:\n",
        "\n",
        "- **Translated_Review**: Reviews of the application translated into a specific language.\n",
        "- **Sentiment**: Overall sentiment of the translated review (e.g., Positive, Negative, Neutral).\n",
        "- **Sentiment_Polarity**: Numeric value indicating the sentiment polarity (positive, negative, or neutral) of the translated review.\n",
        "- **Sentiment_Subjectivity**: Numeric value indicating the subjectivity (opinionated vs. factual) of the translated review."
      ],
      "metadata": {
        "id": "aJV4KIxSnxay"
      }
    },
    {
      "cell_type": "markdown",
      "source": [
        "### Check Unique Values for each variable."
      ],
      "metadata": {
        "id": "u3PMJOP6ngxN"
      }
    },
    {
      "cell_type": "code",
      "source": [
        "# Check Unique Values for each variable for dataset df\n",
        "df.nunique()"
      ],
      "metadata": {
        "id": "zms12Yq5n-jE"
      },
      "execution_count": null,
      "outputs": []
    },
    {
      "cell_type": "code",
      "source": [
        "# Check Unique Values for each variable for dataset df1\n",
        "df1.nunique()"
      ],
      "metadata": {
        "id": "YyO5xir3dcgN"
      },
      "execution_count": null,
      "outputs": []
    },
    {
      "cell_type": "markdown",
      "source": [
        "## 3. ***Data Wrangling***"
      ],
      "metadata": {
        "id": "dauF4eBmngu3"
      }
    },
    {
      "cell_type": "markdown",
      "source": [
        "### Data Wrangling Code"
      ],
      "metadata": {
        "id": "bKJF3rekwFvQ"
      }
    },
    {
      "cell_type": "markdown",
      "source": [
        "DATA CLEANING AND TRANSFORMATION.\n",
        "--> As We Have Already Removed Duplicates and Null Values so now we're performing below stated steps in order to ensure cleaning of data and after that we will create some new columns i.e calculated fields and will remove those columns which have no use.\n",
        "\n",
        "WILL CHECK BELOW THINGS TO EVERY COLUMN AND WILL PERFORM MANDATORY ACTIONS.\n",
        "\n",
        "--> FOR CLEANING\n",
        "* CHECKING DATATYPE\n",
        "* CHECKING REPEATED VALUES\n",
        "* CHECKING ABNORMALITIES\n",
        "\n",
        "--> DATA TRANSFORMATION\n",
        "* COLUMN DELETING\n",
        "* COLUMN ADDING(CALCULATED FIELD)"
      ],
      "metadata": {
        "id": "jsLFXyvxzqhR"
      }
    },
    {
      "cell_type": "markdown",
      "source": [
        "FIRST WE WILL CLEAN AND MODEL DATASET df, THEN WILL CLEAN AND MODEL DATASET df1"
      ],
      "metadata": {
        "id": "yTuFW_OL2OQp"
      }
    },
    {
      "cell_type": "markdown",
      "source": [
        "CLEANING AND TRANSFORMING df"
      ],
      "metadata": {
        "id": "BNO5oU3V2jUW"
      }
    },
    {
      "cell_type": "code",
      "source": [
        "# finding null values\n",
        "df.isnull().sum()"
      ],
      "metadata": {
        "id": "6CAjfhT4KWY3"
      },
      "execution_count": null,
      "outputs": []
    },
    {
      "cell_type": "markdown",
      "source": [
        "insights for null values for df\n",
        "\n",
        "* as we have very small null values in couple of columns so will remove those rows and in review column we have big amount of null values and this is numerical column so will fill this column with mean value."
      ],
      "metadata": {
        "id": "4OMr30pjLCy5"
      }
    },
    {
      "cell_type": "code",
      "source": [
        "# dropping all null values which are small in numbers\n",
        "df = df.dropna(axis=0, subset ={'Content Rating','Type','Android Ver','Current Ver'})"
      ],
      "metadata": {
        "id": "_wUHQjZEBjBF"
      },
      "execution_count": null,
      "outputs": []
    },
    {
      "cell_type": "code",
      "source": [
        "# finding duplicates in df\n",
        "df.duplicated().sum()"
      ],
      "metadata": {
        "id": "4FSPnQiqMFxC"
      },
      "execution_count": null,
      "outputs": []
    },
    {
      "cell_type": "markdown",
      "source": [
        "insights for duplicate values in df\n",
        "\n",
        "* as we have observed that 'App' category contains most duplicates so will analyse it with same column and will remove after analysing"
      ],
      "metadata": {
        "id": "rPMOYF5FMssM"
      }
    },
    {
      "cell_type": "code",
      "source": [
        "# observing for 'App' column\n",
        "df['App'].unique()"
      ],
      "metadata": {
        "id": "QEwOLh62184c"
      },
      "execution_count": null,
      "outputs": []
    },
    {
      "cell_type": "code",
      "source": [
        "# finding duplicates in 'App' column as 'App' column needs to contains only unique values\n",
        "df.duplicated(subset = 'App').sum()"
      ],
      "metadata": {
        "id": "OMBPfjbz2DdK"
      },
      "execution_count": null,
      "outputs": []
    },
    {
      "cell_type": "markdown",
      "source": [
        "# insights of column 'Category'\n",
        "\n",
        "* abnormalities: none\n",
        "* repeatation in data : yes so will remove duplicates\n",
        "* dtype : will remain same"
      ],
      "metadata": {
        "id": "AH8gULlJ3AF0"
      }
    },
    {
      "cell_type": "code",
      "source": [
        "# dropping duplicates from app column\n",
        "df = df.drop_duplicates(subset = 'App')"
      ],
      "metadata": {
        "id": "i6svM0Qt2D7x"
      },
      "execution_count": null,
      "outputs": []
    },
    {
      "cell_type": "code",
      "source": [
        "# observing column Category\n",
        "df.Category.unique()"
      ],
      "metadata": {
        "id": "TIXGYVhe4AgZ"
      },
      "execution_count": null,
      "outputs": []
    },
    {
      "cell_type": "markdown",
      "source": [
        "# insights of column 'Category'\n",
        "\n",
        "* abnormalities: to replace '_AND_'  with ' & '\n",
        "* repeatation in data : none\n",
        "* dtype : will remain same"
      ],
      "metadata": {
        "id": "Tem-bZEq4YG_"
      }
    },
    {
      "cell_type": "code",
      "source": [
        "# replacing '_AND_' with ' & ' in Category column\n",
        "df['Category'] = df['Category'].str.replace('_AND_', ' & ')"
      ],
      "metadata": {
        "id": "cEiHQb0M4AdE"
      },
      "execution_count": null,
      "outputs": []
    },
    {
      "cell_type": "code",
      "source": [
        "# observing size column\n",
        "df.Size.value_counts()"
      ],
      "metadata": {
        "id": "NXL4sY5x4Aa4"
      },
      "execution_count": null,
      "outputs": []
    },
    {
      "cell_type": "markdown",
      "source": [
        "# insights of column 'Size'\n",
        "\n",
        "* abnormalities: to replace 'M' to '', 'Varies with device' to 'nan'and 'k' to '' and will divide it with 1000 to get all values in MB(MEGABYTE)\n",
        "* repeatation in data : none\n",
        "* dtype : will change in float"
      ],
      "metadata": {
        "id": "1dH-b0Zw44rt"
      }
    },
    {
      "cell_type": "code",
      "source": [
        "# replacing 'M' with ''\n",
        "df['Size'] = df['Size'].apply(lambda x: x.replace('M','') if 'M' in x else x)"
      ],
      "metadata": {
        "id": "rzs5qdTD4AYJ"
      },
      "execution_count": null,
      "outputs": []
    },
    {
      "cell_type": "code",
      "source": [
        "# replacing 'k' with '' and changing to float and then dividing by 1000 to convert data in MB\n",
        "df['Size'] = df['Size'].apply(lambda x: float(x.replace('k','')) / 1000 if 'k' in x else x)"
      ],
      "metadata": {
        "id": "zByAs_H-4AWA"
      },
      "execution_count": null,
      "outputs": []
    },
    {
      "cell_type": "code",
      "source": [
        "# now changing 'Size' column dtype into string to replace 'Varies with device' into 'nan' as we can't iterate numbers.\n",
        "df['Size'] = df['Size'].astype('str')"
      ],
      "metadata": {
        "id": "yid13nvZ4ATr"
      },
      "execution_count": null,
      "outputs": []
    },
    {
      "cell_type": "code",
      "source": [
        "# now replacing 'Varies with device' with 'nan'\n",
        "df['Size'] = df['Size'].apply(lambda x: x.replace('Varies with device','nan') if 'Varies with device' in x else x)"
      ],
      "metadata": {
        "id": "o99SKqUJ4ARP"
      },
      "execution_count": null,
      "outputs": []
    },
    {
      "cell_type": "code",
      "source": [
        "# again chganging 'Size' column dtype into float\n",
        "df['Size'] = df['Size'].astype('float64')"
      ],
      "metadata": {
        "id": "n3-S8ith4AOj"
      },
      "execution_count": null,
      "outputs": []
    },
    {
      "cell_type": "code",
      "source": [
        "# observing column Rating\n",
        "df.Rating.unique()"
      ],
      "metadata": {
        "id": "vN-dwsPw4AMA"
      },
      "execution_count": null,
      "outputs": []
    },
    {
      "cell_type": "markdown",
      "source": [
        "# insights of Rating column\n",
        "\n",
        "* abnormalities: found nan value, now finding mean and will fill all nan.\n",
        "* repeatation in data : none\n",
        "* dtype : remain same"
      ],
      "metadata": {
        "id": "JySNwgyj5SJt"
      }
    },
    {
      "cell_type": "code",
      "source": [
        "# finding mean values to replace all null values in Rating column\n",
        "df['Rating'].mean()"
      ],
      "metadata": {
        "id": "dWueN7nF4AHq"
      },
      "execution_count": null,
      "outputs": []
    },
    {
      "cell_type": "code",
      "source": [
        "# filling all nan values with mean values\n",
        "df.fillna({'Rating': 4.2},inplace = True)"
      ],
      "metadata": {
        "id": "hD471FFs4AER"
      },
      "execution_count": null,
      "outputs": []
    },
    {
      "cell_type": "code",
      "source": [
        "# observing column Reviews\n",
        "df.Reviews.unique()"
      ],
      "metadata": {
        "id": "tc1SZUzZ4ABO"
      },
      "execution_count": null,
      "outputs": []
    },
    {
      "cell_type": "markdown",
      "source": [
        "# insights of Reviews column\n",
        "\n",
        "* abnormalities: none\n",
        "* repeatation in data : none\n",
        "* dtype : changing dtype into int"
      ],
      "metadata": {
        "id": "weY9A_OP5j0d"
      }
    },
    {
      "cell_type": "code",
      "source": [
        "# changed datatype\n",
        "df['Reviews'] = df['Reviews'].astype('int64')"
      ],
      "metadata": {
        "id": "S7_ZvCDD3_-1"
      },
      "execution_count": null,
      "outputs": []
    },
    {
      "cell_type": "code",
      "source": [
        "# observing Installs column\n",
        "df.Installs.unique()"
      ],
      "metadata": {
        "id": "eS5BseOf3_8b"
      },
      "execution_count": null,
      "outputs": []
    },
    {
      "cell_type": "markdown",
      "source": [
        "# insights of Installs column\n",
        "\n",
        "* abnormalities: need to remove '+', and ',' to change dtype\n",
        "* repeatation in data : none\n",
        "* dtype : changing dtype into int"
      ],
      "metadata": {
        "id": "GdEKjC1l5z4U"
      }
    },
    {
      "cell_type": "code",
      "source": [
        "# replacing '+' with ''\n",
        "df['Installs'] = df['Installs'].str.replace('+','')"
      ],
      "metadata": {
        "id": "MU263P653_5w"
      },
      "execution_count": null,
      "outputs": []
    },
    {
      "cell_type": "code",
      "source": [
        "# replacing ',' with ''\n",
        "df['Installs'] = df['Installs'].str.replace(',','')"
      ],
      "metadata": {
        "id": "qZKWOVTi3-s6"
      },
      "execution_count": null,
      "outputs": []
    },
    {
      "cell_type": "code",
      "source": [
        "# changing dtype into int\n",
        "df['Installs'] = df['Installs'].astype('int64')"
      ],
      "metadata": {
        "id": "wka8UEd13-q_"
      },
      "execution_count": null,
      "outputs": []
    },
    {
      "cell_type": "code",
      "source": [
        "# observing Type Category\n",
        "df.Type.unique()"
      ],
      "metadata": {
        "id": "KcRpP-kO3-os"
      },
      "execution_count": null,
      "outputs": []
    },
    {
      "cell_type": "markdown",
      "source": [
        "# insights of Type column\n",
        "\n",
        "* abnormalities: none\n",
        "* repeatation in data : none\n",
        "* dtype : remain same"
      ],
      "metadata": {
        "id": "0SyxM_ON6EGg"
      }
    },
    {
      "cell_type": "code",
      "source": [
        "# observing Price Category\n",
        "df.Price.unique()"
      ],
      "metadata": {
        "id": "9wIKiuTa6Bz2"
      },
      "execution_count": null,
      "outputs": []
    },
    {
      "cell_type": "markdown",
      "source": [
        "# insights of Price column\n",
        "\n",
        "* abnormalities: to remove '$' in order to change dtype\n",
        "* repeatation in data : none\n",
        "* dtype : to change in float"
      ],
      "metadata": {
        "id": "r3cf8CDE6LlQ"
      }
    },
    {
      "cell_type": "code",
      "source": [
        "# replacing $ with ''\n",
        "df['Price'] = df['Price'].str.replace('$','')"
      ],
      "metadata": {
        "id": "RiF_hZc36Bwd"
      },
      "execution_count": null,
      "outputs": []
    },
    {
      "cell_type": "code",
      "source": [
        "# changing dtype into float\n",
        "df['Price'] = df['Price'].astype('float64')"
      ],
      "metadata": {
        "id": "hLAjGX4u6Btq"
      },
      "execution_count": null,
      "outputs": []
    },
    {
      "cell_type": "code",
      "source": [
        "# observing Content Rating\n",
        "df['Content Rating'].unique()"
      ],
      "metadata": {
        "id": "DuhEHJx_6BZT"
      },
      "execution_count": null,
      "outputs": []
    },
    {
      "cell_type": "markdown",
      "source": [
        "# insights of Content Rating column\n",
        "\n",
        "* abnormalities: none\n",
        "* repeatation in data : none\n",
        "* dtype : remain same"
      ],
      "metadata": {
        "id": "zq4oKuU_6W9E"
      }
    },
    {
      "cell_type": "code",
      "source": [
        "# observing 'Genres'\n",
        "df.Genres.unique()"
      ],
      "metadata": {
        "id": "zhj_vUQ56BWe"
      },
      "execution_count": null,
      "outputs": []
    },
    {
      "cell_type": "markdown",
      "source": [
        "# insights of 'Genres' column\n",
        "\n",
        "* as we already have 'Category' column and genre column is mixed of category and sub category in which sub category having mostly 'none' values also having very less count so we can delete this column this action will have no impact on data set\n"
      ],
      "metadata": {
        "id": "ciHA7_a46eUh"
      }
    },
    {
      "cell_type": "code",
      "source": [
        "# removing 'Genres' column\n",
        "df = df.drop( columns= 'Genres')"
      ],
      "metadata": {
        "id": "ETCki9v16BTW"
      },
      "execution_count": null,
      "outputs": []
    },
    {
      "cell_type": "code",
      "source": [
        "# observing Last Updated column\n",
        "df['Last Updated'].unique()"
      ],
      "metadata": {
        "id": "YLenh5qG6BQK"
      },
      "execution_count": null,
      "outputs": []
    },
    {
      "cell_type": "markdown",
      "source": [
        "# insights of Last Updated column\n",
        "\n",
        "* abnormalities: none\n",
        "* repeatation in data : none\n",
        "* dtype : to change in datetime"
      ],
      "metadata": {
        "id": "CF__h4vv6_SK"
      }
    },
    {
      "cell_type": "code",
      "source": [
        "# changing dtype in datetime\n",
        "df['Last Updated'] = pd.to_datetime(df['Last Updated'])"
      ],
      "metadata": {
        "id": "Tie-fiDZ66YT"
      },
      "execution_count": null,
      "outputs": []
    },
    {
      "cell_type": "code",
      "source": [
        "# observing Content Rating\n",
        "df['Current Ver'].value_counts()"
      ],
      "metadata": {
        "id": "gTJp2y4Y66VE"
      },
      "execution_count": null,
      "outputs": []
    },
    {
      "cell_type": "markdown",
      "source": [
        "# insights of Current Ver column\n",
        "\n",
        "* abnormalities: none\n",
        "* repeatation in data : none\n",
        "* dtype : remain same"
      ],
      "metadata": {
        "id": "AR6XU2ep7Mbt"
      }
    },
    {
      "cell_type": "code",
      "source": [
        "# observing Android Ver\n",
        "df['Android Ver'].unique()"
      ],
      "metadata": {
        "id": "6Eb30HqX66Sj"
      },
      "execution_count": null,
      "outputs": []
    },
    {
      "cell_type": "markdown",
      "source": [
        "# insights of Android Ver column\n",
        "\n",
        "* abnormalities: to remove 'W' from '4.4W', and replacing 'upper range values' to 'and up'\n",
        "* repeatation in data : none\n",
        "* dtype : remain same"
      ],
      "metadata": {
        "id": "Bf3Ol3f67TfS"
      }
    },
    {
      "cell_type": "code",
      "source": [
        "# removing 'W' with ''\n",
        "df['Android Ver'] = df['Android Ver'].str.replace('W', '')"
      ],
      "metadata": {
        "id": "grut0v3S66PD"
      },
      "execution_count": null,
      "outputs": []
    },
    {
      "cell_type": "code",
      "source": [
        "# replacing '- 7.1.1' to 'and up'\n",
        "df['Android Ver'] = df['Android Ver'].str.replace('- 7.1.1', 'and up')"
      ],
      "metadata": {
        "id": "0rfQfdv766M2"
      },
      "execution_count": null,
      "outputs": []
    },
    {
      "cell_type": "code",
      "source": [
        "# replacing '- 8.0'' to 'and up'\n",
        "df['Android Ver'] = df['Android Ver'].str.replace('- 8.0', 'and up')"
      ],
      "metadata": {
        "id": "0tXS6YBK66Kj"
      },
      "execution_count": null,
      "outputs": []
    },
    {
      "cell_type": "code",
      "source": [
        "# replacing '- 6.0' to 'and up'\n",
        "df['Android Ver'] = df['Android Ver'].str.replace('- 6.0', 'and up')"
      ],
      "metadata": {
        "id": "83obXaQP66Aj"
      },
      "execution_count": null,
      "outputs": []
    },
    {
      "cell_type": "code",
      "source": [
        "# ensuring all changes takes place\n",
        "df.info()"
      ],
      "metadata": {
        "id": "a-dpOR_k659L"
      },
      "execution_count": null,
      "outputs": []
    },
    {
      "cell_type": "code",
      "source": [
        "# having a sneak peak to ensure changes\n",
        "df.head()"
      ],
      "metadata": {
        "id": "t0CTEaZy6564"
      },
      "execution_count": null,
      "outputs": []
    },
    {
      "cell_type": "code",
      "source": [],
      "metadata": {
        "id": "kzYpWBey654J"
      },
      "execution_count": null,
      "outputs": []
    },
    {
      "cell_type": "code",
      "source": [],
      "metadata": {
        "id": "60hLKodf6511"
      },
      "execution_count": null,
      "outputs": []
    },
    {
      "cell_type": "markdown",
      "source": [
        "CLEANING AND TRANSFORMING DATASET df1"
      ],
      "metadata": {
        "id": "Db75LMu18CC-"
      }
    },
    {
      "cell_type": "code",
      "source": [
        "# finding duplicates\n",
        "df1.duplicated().sum()"
      ],
      "metadata": {
        "id": "B_9zK8kqOCpV"
      },
      "execution_count": null,
      "outputs": []
    },
    {
      "cell_type": "markdown",
      "source": [
        "insights for duplicates in df1\n",
        "\n",
        "* having duplicate 33616 rows so will remove all"
      ],
      "metadata": {
        "id": "clq-LeyyOMi3"
      }
    },
    {
      "cell_type": "code",
      "source": [
        "# dropping duplicates\n",
        "df1 = df1.drop_duplicates()"
      ],
      "metadata": {
        "id": "4YS_hXkFOasW"
      },
      "execution_count": null,
      "outputs": []
    },
    {
      "cell_type": "code",
      "source": [
        "# finding null values\n",
        "df1.isnull().sum()"
      ],
      "metadata": {
        "id": "VLxoiLSrNxZt"
      },
      "execution_count": null,
      "outputs": []
    },
    {
      "cell_type": "markdown",
      "source": [
        "insights for null values in df1\n",
        "\n",
        "* as we have only 5 columns in which 4 have null values so will remove all corresponding rows to get clean data"
      ],
      "metadata": {
        "id": "xpWXY1GWOqDp"
      }
    },
    {
      "cell_type": "code",
      "source": [
        "# dropping all null values\n",
        "df1 = df1.dropna(axis = 0)"
      ],
      "metadata": {
        "id": "ktBn-l87PB_d"
      },
      "execution_count": null,
      "outputs": []
    },
    {
      "cell_type": "code",
      "source": [
        "# observing App column of df1\n",
        "df1['App'].unique()"
      ],
      "metadata": {
        "id": "p-1F-ZZP65zo"
      },
      "execution_count": null,
      "outputs": []
    },
    {
      "cell_type": "markdown",
      "source": [
        "# insights of App column\n",
        "\n",
        "* abnormalities: none\n",
        "* repeatation in data : none\n",
        "* dtype : remain same"
      ],
      "metadata": {
        "id": "JTRHbxyi9KJY"
      }
    },
    {
      "cell_type": "code",
      "source": [
        "# observing Translated_Review column of df1\n",
        "df1['Translated_Review'].unique()"
      ],
      "metadata": {
        "id": "Il1ZoVkZQKGH"
      },
      "execution_count": null,
      "outputs": []
    },
    {
      "cell_type": "markdown",
      "source": [
        "# insights of Translated_Review column\n",
        "\n",
        "* abnormalities: none\n",
        "* repeatation in data : none\n",
        "* dtype : remain same"
      ],
      "metadata": {
        "id": "TM0tyed7P5xx"
      }
    },
    {
      "cell_type": "markdown",
      "source": [],
      "metadata": {
        "id": "7fEySRyDS89m"
      }
    },
    {
      "cell_type": "code",
      "source": [
        "# observing Sentiment column of df1\n",
        "df1['Sentiment'].unique()"
      ],
      "metadata": {
        "id": "JQSAiYui65u2"
      },
      "execution_count": null,
      "outputs": []
    },
    {
      "cell_type": "code",
      "source": [
        "# checking amount of null values\n",
        "df1['Sentiment'].value_counts()"
      ],
      "metadata": {
        "id": "T2rA3oIgSszz"
      },
      "execution_count": null,
      "outputs": []
    },
    {
      "cell_type": "markdown",
      "source": [
        "# insights of Sentiment column\n",
        "\n",
        "* abnormalities: have null values and small in amount so will delete all null values\n",
        "* repeatation in data : none\n",
        "* dtype : remain same"
      ],
      "metadata": {
        "id": "hOqM9KnfS2zL"
      }
    },
    {
      "cell_type": "code",
      "source": [
        "# observing Sentiment column of df1\n",
        "df1['Sentiment_Polarity'].unique()"
      ],
      "metadata": {
        "id": "do-v3GmX65sg"
      },
      "execution_count": null,
      "outputs": []
    },
    {
      "cell_type": "markdown",
      "source": [
        "# insights of Sentiment_Polarity column\n",
        "\n",
        "* abnormalities: none\n",
        "* repeatation in data : none\n",
        "* dtype : remain same"
      ],
      "metadata": {
        "id": "YyKzyOzSUJRE"
      }
    },
    {
      "cell_type": "code",
      "source": [
        "# observing Sentiment_Subjectivity column of df1\n",
        "df1['Sentiment_Subjectivity'].unique()"
      ],
      "metadata": {
        "id": "UOHJBiL965p9"
      },
      "execution_count": null,
      "outputs": []
    },
    {
      "cell_type": "markdown",
      "source": [
        "# insights of Sentiment_Subjectivity column\n",
        "\n",
        "* abnormalities: none\n",
        "* repeatation in data : none\n",
        "* dtype : remain same"
      ],
      "metadata": {
        "id": "XP6oWnfbUlPg"
      }
    },
    {
      "cell_type": "markdown",
      "source": [
        "### What all manipulations have you done and insights you found?"
      ],
      "metadata": {
        "id": "MSa1f5Uengrz"
      }
    },
    {
      "cell_type": "markdown",
      "source": [
        "Answer Here."
      ],
      "metadata": {
        "id": "LbyXE7I1olp8"
      }
    },
    {
      "cell_type": "markdown",
      "source": [
        "## ***4. Data Vizualization, Storytelling & Experimenting with charts : Understand the relationships between variables***"
      ],
      "metadata": {
        "id": "GF8Ens_Soomf"
      }
    },
    {
      "cell_type": "markdown",
      "source": [
        "#### Chart - 1 Category wise apps"
      ],
      "metadata": {
        "id": "0wOQAZs5pc--"
      }
    },
    {
      "cell_type": "code",
      "source": [
        "# to find no. of apps in each category\n",
        "dc = df.groupby(['Category']).count()['App'].sort_values(ascending = False)\n",
        "sns.barplot(data =  dc)\n",
        "plt.xticks(rotation=90)\n",
        "plt.title('category wise no. of apps')\n",
        "plt.show()\n",
        "\n"
      ],
      "metadata": {
        "id": "7v_ESjsspbW7"
      },
      "execution_count": null,
      "outputs": []
    },
    {
      "cell_type": "markdown",
      "source": [
        "##### 1. Why did you pick the specific chart?"
      ],
      "metadata": {
        "id": "K5QZ13OEpz2H"
      }
    },
    {
      "cell_type": "markdown",
      "source": [
        "Answer Here."
      ],
      "metadata": {
        "id": "XESiWehPqBRc"
      }
    },
    {
      "cell_type": "markdown",
      "source": [
        "##### 2. What is/are the insight(s) found from the chart?"
      ],
      "metadata": {
        "id": "lQ7QKXXCp7Bj"
      }
    },
    {
      "cell_type": "markdown",
      "source": [
        "Answer Here"
      ],
      "metadata": {
        "id": "C_j1G7yiqdRP"
      }
    },
    {
      "cell_type": "markdown",
      "source": [
        "##### 3. Will the gained insights help creating a positive business impact?\n",
        "Are there any insights that lead to negative growth? Justify with specific reason."
      ],
      "metadata": {
        "id": "448CDAPjqfQr"
      }
    },
    {
      "cell_type": "markdown",
      "source": [
        "Answer Here"
      ],
      "metadata": {
        "id": "3cspy4FjqxJW"
      }
    },
    {
      "cell_type": "markdown",
      "source": [
        "#### Chart - top 10 categories review wise"
      ],
      "metadata": {
        "id": "KSlN3yHqYklG"
      }
    },
    {
      "cell_type": "code",
      "source": [
        "# Chart - 2 reviews of top 10 categories\n",
        "sns.barplot(x = 'Category', y = 'Reviews', data = df)\n",
        "df.sort_values(by = 'Category' , ascending = True)\n",
        "plt.xticks(rotation=90)\n",
        "plt.title('top 10 category wise apps')\n",
        "plt.show()"
      ],
      "metadata": {
        "id": "R4YgtaqtYklH"
      },
      "execution_count": null,
      "outputs": []
    },
    {
      "cell_type": "markdown",
      "source": [
        "##### 1. Why did you pick the specific chart?"
      ],
      "metadata": {
        "id": "t6dVpIINYklI"
      }
    },
    {
      "cell_type": "markdown",
      "source": [
        "Answer Here."
      ],
      "metadata": {
        "id": "5aaW0BYyYklI"
      }
    },
    {
      "cell_type": "markdown",
      "source": [
        "##### 2. What is/are the insight(s) found from the chart?"
      ],
      "metadata": {
        "id": "ijmpgYnKYklI"
      }
    },
    {
      "cell_type": "markdown",
      "source": [
        "Answer Here"
      ],
      "metadata": {
        "id": "PSx9atu2YklI"
      }
    },
    {
      "cell_type": "markdown",
      "source": [
        "##### 3. Will the gained insights help creating a positive business impact?\n",
        "Are there any insights that lead to negative growth? Justify with specific reason."
      ],
      "metadata": {
        "id": "-JiQyfWJYklI"
      }
    },
    {
      "cell_type": "markdown",
      "source": [
        "Answer Here"
      ],
      "metadata": {
        "id": "BcBbebzrYklV"
      }
    },
    {
      "cell_type": "markdown",
      "source": [
        "#### Chart - 3 Category wise total app installs"
      ],
      "metadata": {
        "id": "EM7whBJCYoAo"
      }
    },
    {
      "cell_type": "code",
      "source": [
        "# Chart - 3 top 5 category wise total app installs\n",
        "df5 = df.groupby(['Category']).sum()['Reviews'].value_counts()\n",
        "df5.plot(kind='pie', autopct=\"%1.2f%%\",startangle=90)"
      ],
      "metadata": {
        "id": "t6GMdE67YoAp"
      },
      "execution_count": null,
      "outputs": []
    },
    {
      "cell_type": "markdown",
      "source": [
        "##### 1. Why did you pick the specific chart?"
      ],
      "metadata": {
        "id": "fge-S5ZAYoAp"
      }
    },
    {
      "cell_type": "markdown",
      "source": [
        "Answer Here."
      ],
      "metadata": {
        "id": "5dBItgRVYoAp"
      }
    },
    {
      "cell_type": "markdown",
      "source": [
        "##### 2. What is/are the insight(s) found from the chart?"
      ],
      "metadata": {
        "id": "85gYPyotYoAp"
      }
    },
    {
      "cell_type": "markdown",
      "source": [
        "Answer Here"
      ],
      "metadata": {
        "id": "4jstXR6OYoAp"
      }
    },
    {
      "cell_type": "markdown",
      "source": [
        "##### 3. Will the gained insights help creating a positive business impact?\n",
        "Are there any insights that lead to negative growth? Justify with specific reason."
      ],
      "metadata": {
        "id": "RoGjAbkUYoAp"
      }
    },
    {
      "cell_type": "markdown",
      "source": [
        "Answer Here"
      ],
      "metadata": {
        "id": "zfJ8IqMcYoAp"
      }
    },
    {
      "cell_type": "markdown",
      "source": [
        "#### Chart - 4"
      ],
      "metadata": {
        "id": "4Of9eVA-YrdM"
      }
    },
    {
      "cell_type": "code",
      "source": [
        "# Chart - 4 visualization code"
      ],
      "metadata": {
        "id": "irlUoxc8YrdO"
      },
      "execution_count": null,
      "outputs": []
    },
    {
      "cell_type": "markdown",
      "source": [
        "##### 1. Why did you pick the specific chart?"
      ],
      "metadata": {
        "id": "iky9q4vBYrdO"
      }
    },
    {
      "cell_type": "markdown",
      "source": [
        "Answer Here."
      ],
      "metadata": {
        "id": "aJRCwT6DYrdO"
      }
    },
    {
      "cell_type": "markdown",
      "source": [
        "##### 2. What is/are the insight(s) found from the chart?"
      ],
      "metadata": {
        "id": "F6T5p64dYrdO"
      }
    },
    {
      "cell_type": "markdown",
      "source": [
        "Answer Here"
      ],
      "metadata": {
        "id": "Xx8WAJvtYrdO"
      }
    },
    {
      "cell_type": "markdown",
      "source": [
        "##### 3. Will the gained insights help creating a positive business impact?\n",
        "Are there any insights that lead to negative growth? Justify with specific reason."
      ],
      "metadata": {
        "id": "y-Ehk30pYrdP"
      }
    },
    {
      "cell_type": "markdown",
      "source": [
        "Answer Here"
      ],
      "metadata": {
        "id": "jLNxxz7MYrdP"
      }
    },
    {
      "cell_type": "markdown",
      "source": [
        "#### Chart - 5"
      ],
      "metadata": {
        "id": "bamQiAODYuh1"
      }
    },
    {
      "cell_type": "code",
      "source": [
        "# Chart - 5 visualization code"
      ],
      "metadata": {
        "id": "TIJwrbroYuh3"
      },
      "execution_count": null,
      "outputs": []
    },
    {
      "cell_type": "markdown",
      "source": [
        "##### 1. Why did you pick the specific chart?"
      ],
      "metadata": {
        "id": "QHF8YVU7Yuh3"
      }
    },
    {
      "cell_type": "markdown",
      "source": [
        "Answer Here."
      ],
      "metadata": {
        "id": "dcxuIMRPYuh3"
      }
    },
    {
      "cell_type": "markdown",
      "source": [
        "##### 2. What is/are the insight(s) found from the chart?"
      ],
      "metadata": {
        "id": "GwzvFGzlYuh3"
      }
    },
    {
      "cell_type": "markdown",
      "source": [
        "Answer Here"
      ],
      "metadata": {
        "id": "uyqkiB8YYuh3"
      }
    },
    {
      "cell_type": "markdown",
      "source": [
        "##### 3. Will the gained insights help creating a positive business impact?\n",
        "Are there any insights that lead to negative growth? Justify with specific reason."
      ],
      "metadata": {
        "id": "qYpmQ266Yuh3"
      }
    },
    {
      "cell_type": "markdown",
      "source": [
        "Answer Here"
      ],
      "metadata": {
        "id": "_WtzZ_hCYuh4"
      }
    },
    {
      "cell_type": "markdown",
      "source": [
        "#### Chart - 6"
      ],
      "metadata": {
        "id": "OH-pJp9IphqM"
      }
    },
    {
      "cell_type": "code",
      "source": [
        "# Chart - 6 visualization code"
      ],
      "metadata": {
        "id": "kuRf4wtuphqN"
      },
      "execution_count": null,
      "outputs": []
    },
    {
      "cell_type": "markdown",
      "source": [
        "##### 1. Why did you pick the specific chart?"
      ],
      "metadata": {
        "id": "bbFf2-_FphqN"
      }
    },
    {
      "cell_type": "markdown",
      "source": [
        "Answer Here."
      ],
      "metadata": {
        "id": "loh7H2nzphqN"
      }
    },
    {
      "cell_type": "markdown",
      "source": [
        "##### 2. What is/are the insight(s) found from the chart?"
      ],
      "metadata": {
        "id": "_ouA3fa0phqN"
      }
    },
    {
      "cell_type": "markdown",
      "source": [
        "Answer Here"
      ],
      "metadata": {
        "id": "VECbqPI7phqN"
      }
    },
    {
      "cell_type": "markdown",
      "source": [
        "##### 3. Will the gained insights help creating a positive business impact?\n",
        "Are there any insights that lead to negative growth? Justify with specific reason."
      ],
      "metadata": {
        "id": "Seke61FWphqN"
      }
    },
    {
      "cell_type": "markdown",
      "source": [
        "Answer Here"
      ],
      "metadata": {
        "id": "DW4_bGpfphqN"
      }
    },
    {
      "cell_type": "markdown",
      "source": [
        "#### Chart - 7"
      ],
      "metadata": {
        "id": "PIIx-8_IphqN"
      }
    },
    {
      "cell_type": "code",
      "source": [
        "# Chart - 7 visualization code"
      ],
      "metadata": {
        "id": "lqAIGUfyphqO"
      },
      "execution_count": null,
      "outputs": []
    },
    {
      "cell_type": "markdown",
      "source": [
        "##### 1. Why did you pick the specific chart?"
      ],
      "metadata": {
        "id": "t27r6nlMphqO"
      }
    },
    {
      "cell_type": "markdown",
      "source": [
        "Answer Here."
      ],
      "metadata": {
        "id": "iv6ro40sphqO"
      }
    },
    {
      "cell_type": "markdown",
      "source": [
        "##### 2. What is/are the insight(s) found from the chart?"
      ],
      "metadata": {
        "id": "r2jJGEOYphqO"
      }
    },
    {
      "cell_type": "markdown",
      "source": [
        "Answer Here"
      ],
      "metadata": {
        "id": "Po6ZPi4hphqO"
      }
    },
    {
      "cell_type": "markdown",
      "source": [
        "##### 3. Will the gained insights help creating a positive business impact?\n",
        "Are there any insights that lead to negative growth? Justify with specific reason."
      ],
      "metadata": {
        "id": "b0JNsNcRphqO"
      }
    },
    {
      "cell_type": "markdown",
      "source": [
        "Answer Here"
      ],
      "metadata": {
        "id": "xvSq8iUTphqO"
      }
    },
    {
      "cell_type": "markdown",
      "source": [
        "#### Chart - 8"
      ],
      "metadata": {
        "id": "BZR9WyysphqO"
      }
    },
    {
      "cell_type": "code",
      "source": [
        "# Chart - 8 visualization code"
      ],
      "metadata": {
        "id": "TdPTWpAVphqO"
      },
      "execution_count": null,
      "outputs": []
    },
    {
      "cell_type": "markdown",
      "source": [
        "##### 1. Why did you pick the specific chart?"
      ],
      "metadata": {
        "id": "jj7wYXLtphqO"
      }
    },
    {
      "cell_type": "markdown",
      "source": [
        "Answer Here."
      ],
      "metadata": {
        "id": "Ob8u6rCTphqO"
      }
    },
    {
      "cell_type": "markdown",
      "source": [
        "##### 2. What is/are the insight(s) found from the chart?"
      ],
      "metadata": {
        "id": "eZrbJ2SmphqO"
      }
    },
    {
      "cell_type": "markdown",
      "source": [
        "Answer Here"
      ],
      "metadata": {
        "id": "mZtgC_hjphqO"
      }
    },
    {
      "cell_type": "markdown",
      "source": [
        "##### 3. Will the gained insights help creating a positive business impact?\n",
        "Are there any insights that lead to negative growth? Justify with specific reason."
      ],
      "metadata": {
        "id": "rFu4xreNphqO"
      }
    },
    {
      "cell_type": "markdown",
      "source": [
        "Answer Here"
      ],
      "metadata": {
        "id": "ey_0qi68phqO"
      }
    },
    {
      "cell_type": "markdown",
      "source": [
        "#### Chart - 9"
      ],
      "metadata": {
        "id": "YJ55k-q6phqO"
      }
    },
    {
      "cell_type": "code",
      "source": [
        "# Chart - 9 visualization code"
      ],
      "metadata": {
        "id": "B2aS4O1ophqO"
      },
      "execution_count": null,
      "outputs": []
    },
    {
      "cell_type": "markdown",
      "source": [
        "##### 1. Why did you pick the specific chart?"
      ],
      "metadata": {
        "id": "gCFgpxoyphqP"
      }
    },
    {
      "cell_type": "markdown",
      "source": [
        "Answer Here."
      ],
      "metadata": {
        "id": "TVxDimi2phqP"
      }
    },
    {
      "cell_type": "markdown",
      "source": [
        "##### 2. What is/are the insight(s) found from the chart?"
      ],
      "metadata": {
        "id": "OVtJsKN_phqQ"
      }
    },
    {
      "cell_type": "markdown",
      "source": [
        "Answer Here"
      ],
      "metadata": {
        "id": "ngGi97qjphqQ"
      }
    },
    {
      "cell_type": "markdown",
      "source": [
        "##### 3. Will the gained insights help creating a positive business impact?\n",
        "Are there any insights that lead to negative growth? Justify with specific reason."
      ],
      "metadata": {
        "id": "lssrdh5qphqQ"
      }
    },
    {
      "cell_type": "markdown",
      "source": [
        "Answer Here"
      ],
      "metadata": {
        "id": "tBpY5ekJphqQ"
      }
    },
    {
      "cell_type": "markdown",
      "source": [
        "#### Chart - 10"
      ],
      "metadata": {
        "id": "U2RJ9gkRphqQ"
      }
    },
    {
      "cell_type": "code",
      "source": [
        "# Chart - 10 visualization code"
      ],
      "metadata": {
        "id": "GM7a4YP4phqQ"
      },
      "execution_count": null,
      "outputs": []
    },
    {
      "cell_type": "markdown",
      "source": [
        "##### 1. Why did you pick the specific chart?"
      ],
      "metadata": {
        "id": "1M8mcRywphqQ"
      }
    },
    {
      "cell_type": "markdown",
      "source": [
        "Answer Here."
      ],
      "metadata": {
        "id": "8agQvks0phqQ"
      }
    },
    {
      "cell_type": "markdown",
      "source": [
        "##### 2. What is/are the insight(s) found from the chart?"
      ],
      "metadata": {
        "id": "tgIPom80phqQ"
      }
    },
    {
      "cell_type": "markdown",
      "source": [
        "Answer Here"
      ],
      "metadata": {
        "id": "Qp13pnNzphqQ"
      }
    },
    {
      "cell_type": "markdown",
      "source": [
        "##### 3. Will the gained insights help creating a positive business impact?\n",
        "Are there any insights that lead to negative growth? Justify with specific reason."
      ],
      "metadata": {
        "id": "JMzcOPDDphqR"
      }
    },
    {
      "cell_type": "markdown",
      "source": [
        "Answer Here"
      ],
      "metadata": {
        "id": "R4Ka1PC2phqR"
      }
    },
    {
      "cell_type": "markdown",
      "source": [
        "#### Chart - 11"
      ],
      "metadata": {
        "id": "x-EpHcCOp1ci"
      }
    },
    {
      "cell_type": "code",
      "source": [
        "# Chart - 11 visualization code"
      ],
      "metadata": {
        "id": "mAQTIvtqp1cj"
      },
      "execution_count": null,
      "outputs": []
    },
    {
      "cell_type": "markdown",
      "source": [
        "##### 1. Why did you pick the specific chart?"
      ],
      "metadata": {
        "id": "X_VqEhTip1ck"
      }
    },
    {
      "cell_type": "markdown",
      "source": [
        "Answer Here."
      ],
      "metadata": {
        "id": "-vsMzt_np1ck"
      }
    },
    {
      "cell_type": "markdown",
      "source": [
        "##### 2. What is/are the insight(s) found from the chart?"
      ],
      "metadata": {
        "id": "8zGJKyg5p1ck"
      }
    },
    {
      "cell_type": "markdown",
      "source": [
        "Answer Here"
      ],
      "metadata": {
        "id": "ZYdMsrqVp1ck"
      }
    },
    {
      "cell_type": "markdown",
      "source": [
        "##### 3. Will the gained insights help creating a positive business impact?\n",
        "Are there any insights that lead to negative growth? Justify with specific reason."
      ],
      "metadata": {
        "id": "PVzmfK_Ep1ck"
      }
    },
    {
      "cell_type": "markdown",
      "source": [
        "Answer Here"
      ],
      "metadata": {
        "id": "druuKYZpp1ck"
      }
    },
    {
      "cell_type": "markdown",
      "source": [
        "#### Chart - 12"
      ],
      "metadata": {
        "id": "n3dbpmDWp1ck"
      }
    },
    {
      "cell_type": "code",
      "source": [
        "# Chart - 12 visualization code"
      ],
      "metadata": {
        "id": "bwevp1tKp1ck"
      },
      "execution_count": null,
      "outputs": []
    },
    {
      "cell_type": "markdown",
      "source": [
        "##### 1. Why did you pick the specific chart?"
      ],
      "metadata": {
        "id": "ylSl6qgtp1ck"
      }
    },
    {
      "cell_type": "markdown",
      "source": [
        "Answer Here."
      ],
      "metadata": {
        "id": "m2xqNkiQp1ck"
      }
    },
    {
      "cell_type": "markdown",
      "source": [
        "##### 2. What is/are the insight(s) found from the chart?"
      ],
      "metadata": {
        "id": "ZWILFDl5p1ck"
      }
    },
    {
      "cell_type": "markdown",
      "source": [
        "Answer Here"
      ],
      "metadata": {
        "id": "x-lUsV2mp1ck"
      }
    },
    {
      "cell_type": "markdown",
      "source": [
        "##### 3. Will the gained insights help creating a positive business impact?\n",
        "Are there any insights that lead to negative growth? Justify with specific reason."
      ],
      "metadata": {
        "id": "M7G43BXep1ck"
      }
    },
    {
      "cell_type": "markdown",
      "source": [
        "Answer Here"
      ],
      "metadata": {
        "id": "5wwDJXsLp1cl"
      }
    },
    {
      "cell_type": "markdown",
      "source": [
        "#### Chart - 13"
      ],
      "metadata": {
        "id": "Ag9LCva-p1cl"
      }
    },
    {
      "cell_type": "code",
      "source": [
        "# Chart - 13 visualization code"
      ],
      "metadata": {
        "id": "EUfxeq9-p1cl"
      },
      "execution_count": null,
      "outputs": []
    },
    {
      "cell_type": "markdown",
      "source": [
        "##### 1. Why did you pick the specific chart?"
      ],
      "metadata": {
        "id": "E6MkPsBcp1cl"
      }
    },
    {
      "cell_type": "markdown",
      "source": [
        "Answer Here."
      ],
      "metadata": {
        "id": "V22bRsFWp1cl"
      }
    },
    {
      "cell_type": "markdown",
      "source": [
        "##### 2. What is/are the insight(s) found from the chart?"
      ],
      "metadata": {
        "id": "2cELzS2fp1cl"
      }
    },
    {
      "cell_type": "markdown",
      "source": [
        "Answer Here"
      ],
      "metadata": {
        "id": "ozQPc2_Ip1cl"
      }
    },
    {
      "cell_type": "markdown",
      "source": [
        "##### 3. Will the gained insights help creating a positive business impact?\n",
        "Are there any insights that lead to negative growth? Justify with specific reason."
      ],
      "metadata": {
        "id": "3MPXvC8up1cl"
      }
    },
    {
      "cell_type": "markdown",
      "source": [
        "Answer Here"
      ],
      "metadata": {
        "id": "GL8l1tdLp1cl"
      }
    },
    {
      "cell_type": "markdown",
      "source": [
        "#### Chart - 14 - Correlation Heatmap"
      ],
      "metadata": {
        "id": "NC_X3p0fY2L0"
      }
    },
    {
      "cell_type": "code",
      "source": [
        "# Correlation Heatmap visualization code"
      ],
      "metadata": {
        "id": "xyC9zolEZNRQ"
      },
      "execution_count": null,
      "outputs": []
    },
    {
      "cell_type": "markdown",
      "source": [
        "##### 1. Why did you pick the specific chart?"
      ],
      "metadata": {
        "id": "UV0SzAkaZNRQ"
      }
    },
    {
      "cell_type": "markdown",
      "source": [
        "Answer Here."
      ],
      "metadata": {
        "id": "DVPuT8LYZNRQ"
      }
    },
    {
      "cell_type": "markdown",
      "source": [
        "##### 2. What is/are the insight(s) found from the chart?"
      ],
      "metadata": {
        "id": "YPEH6qLeZNRQ"
      }
    },
    {
      "cell_type": "markdown",
      "source": [
        "Answer Here"
      ],
      "metadata": {
        "id": "bfSqtnDqZNRR"
      }
    },
    {
      "cell_type": "markdown",
      "source": [
        "#### Chart - 15 - Pair Plot"
      ],
      "metadata": {
        "id": "q29F0dvdveiT"
      }
    },
    {
      "cell_type": "code",
      "source": [
        "# Pair Plot visualization code"
      ],
      "metadata": {
        "id": "o58-TEIhveiU"
      },
      "execution_count": null,
      "outputs": []
    },
    {
      "cell_type": "markdown",
      "source": [
        "##### 1. Why did you pick the specific chart?"
      ],
      "metadata": {
        "id": "EXh0U9oCveiU"
      }
    },
    {
      "cell_type": "markdown",
      "source": [
        "Answer Here."
      ],
      "metadata": {
        "id": "eMmPjTByveiU"
      }
    },
    {
      "cell_type": "markdown",
      "source": [
        "##### 2. What is/are the insight(s) found from the chart?"
      ],
      "metadata": {
        "id": "22aHeOlLveiV"
      }
    },
    {
      "cell_type": "markdown",
      "source": [
        "Answer Here"
      ],
      "metadata": {
        "id": "uPQ8RGwHveiV"
      }
    },
    {
      "cell_type": "markdown",
      "source": [
        "## **5. Solution to Business Objective**"
      ],
      "metadata": {
        "id": "JcMwzZxoAimU"
      }
    },
    {
      "cell_type": "markdown",
      "source": [
        "#### What do you suggest the client to achieve Business Objective ?\n",
        "Explain Briefly."
      ],
      "metadata": {
        "id": "8G2x9gOozGDZ"
      }
    },
    {
      "cell_type": "markdown",
      "source": [
        "Answer Here."
      ],
      "metadata": {
        "id": "pASKb0qOza21"
      }
    },
    {
      "cell_type": "markdown",
      "source": [
        "# **Conclusion**"
      ],
      "metadata": {
        "id": "gCX9965dhzqZ"
      }
    },
    {
      "cell_type": "markdown",
      "source": [
        "Write the conclusion here."
      ],
      "metadata": {
        "id": "Fjb1IsQkh3yE"
      }
    },
    {
      "cell_type": "markdown",
      "source": [
        "### ***Hurrah! You have successfully completed your EDA Capstone Project !!!***"
      ],
      "metadata": {
        "id": "gIfDvo9L0UH2"
      }
    }
  ]
}